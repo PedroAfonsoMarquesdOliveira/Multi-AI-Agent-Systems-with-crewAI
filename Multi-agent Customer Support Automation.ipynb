{
 "cells": [
  {
   "cell_type": "code",
   "id": "initial_id",
   "metadata": {
    "collapsed": true,
    "ExecuteTime": {
     "end_time": "2025-04-27T09:56:40.619454Z",
     "start_time": "2025-04-27T09:56:25.356271Z"
    }
   },
   "source": "!pip install crewai==0.28.8 crewai_tools==0.1.6 langchain_community==0.0.29",
   "outputs": [
    {
     "name": "stdout",
     "output_type": "stream",
     "text": [
      "Requirement already satisfied: crewai==0.28.8 in c:\\pedro\\brincar\\multi ai agent systems with crewai\\venv\\lib\\site-packages (0.28.8)\n",
      "Requirement already satisfied: crewai_tools==0.1.6 in c:\\pedro\\brincar\\multi ai agent systems with crewai\\venv\\lib\\site-packages (0.1.6)\n",
      "Requirement already satisfied: langchain_community==0.0.29 in c:\\pedro\\brincar\\multi ai agent systems with crewai\\venv\\lib\\site-packages (0.0.29)\n",
      "Requirement already satisfied: appdirs<2.0.0,>=1.4.4 in c:\\pedro\\brincar\\multi ai agent systems with crewai\\venv\\lib\\site-packages (from crewai==0.28.8) (1.4.4)\n",
      "Requirement already satisfied: click<9.0.0,>=8.1.7 in c:\\pedro\\brincar\\multi ai agent systems with crewai\\venv\\lib\\site-packages (from crewai==0.28.8) (8.1.7)\n",
      "Requirement already satisfied: embedchain<0.2.0,>=0.1.98 in c:\\pedro\\brincar\\multi ai agent systems with crewai\\venv\\lib\\site-packages (from crewai==0.28.8) (0.1.113)\n",
      "Requirement already satisfied: instructor<0.6.0,>=0.5.2 in c:\\pedro\\brincar\\multi ai agent systems with crewai\\venv\\lib\\site-packages (from crewai==0.28.8) (0.5.2)\n",
      "Requirement already satisfied: langchain<0.2.0,>=0.1.10 in c:\\pedro\\brincar\\multi ai agent systems with crewai\\venv\\lib\\site-packages (from crewai==0.28.8) (0.1.13)\n",
      "Requirement already satisfied: openai<2.0.0,>=1.13.3 in c:\\pedro\\brincar\\multi ai agent systems with crewai\\venv\\lib\\site-packages (from crewai==0.28.8) (1.76.0)\n",
      "Requirement already satisfied: opentelemetry-api<2.0.0,>=1.22.0 in c:\\pedro\\brincar\\multi ai agent systems with crewai\\venv\\lib\\site-packages (from crewai==0.28.8) (1.32.1)\n",
      "Requirement already satisfied: opentelemetry-exporter-otlp-proto-http<2.0.0,>=1.22.0 in c:\\pedro\\brincar\\multi ai agent systems with crewai\\venv\\lib\\site-packages (from crewai==0.28.8) (1.32.1)\n",
      "Requirement already satisfied: opentelemetry-sdk<2.0.0,>=1.22.0 in c:\\pedro\\brincar\\multi ai agent systems with crewai\\venv\\lib\\site-packages (from crewai==0.28.8) (1.32.1)\n",
      "Requirement already satisfied: pydantic<3.0.0,>=2.4.2 in c:\\pedro\\brincar\\multi ai agent systems with crewai\\venv\\lib\\site-packages (from crewai==0.28.8) (2.11.3)\n",
      "Requirement already satisfied: python-dotenv==1.0.0 in c:\\pedro\\brincar\\multi ai agent systems with crewai\\venv\\lib\\site-packages (from crewai==0.28.8) (1.0.0)\n",
      "Requirement already satisfied: regex<2024.0.0,>=2023.12.25 in c:\\pedro\\brincar\\multi ai agent systems with crewai\\venv\\lib\\site-packages (from crewai==0.28.8) (2023.12.25)\n",
      "Requirement already satisfied: beautifulsoup4<5.0.0,>=4.12.3 in c:\\pedro\\brincar\\multi ai agent systems with crewai\\venv\\lib\\site-packages (from crewai_tools==0.1.6) (4.13.4)\n",
      "Requirement already satisfied: chromadb<0.5.0,>=0.4.22 in c:\\pedro\\brincar\\multi ai agent systems with crewai\\venv\\lib\\site-packages (from crewai_tools==0.1.6) (0.4.24)\n",
      "Requirement already satisfied: lancedb<0.6.0,>=0.5.4 in c:\\pedro\\brincar\\multi ai agent systems with crewai\\venv\\lib\\site-packages (from crewai_tools==0.1.6) (0.5.7)\n",
      "Requirement already satisfied: pyright<2.0.0,>=1.1.350 in c:\\pedro\\brincar\\multi ai agent systems with crewai\\venv\\lib\\site-packages (from crewai_tools==0.1.6) (1.1.400)\n",
      "Requirement already satisfied: pytest<9.0.0,>=8.0.0 in c:\\pedro\\brincar\\multi ai agent systems with crewai\\venv\\lib\\site-packages (from crewai_tools==0.1.6) (8.3.5)\n",
      "Requirement already satisfied: pytube<16.0.0,>=15.0.0 in c:\\pedro\\brincar\\multi ai agent systems with crewai\\venv\\lib\\site-packages (from crewai_tools==0.1.6) (15.0.0)\n",
      "Requirement already satisfied: requests<3.0.0,>=2.31.0 in c:\\pedro\\brincar\\multi ai agent systems with crewai\\venv\\lib\\site-packages (from crewai_tools==0.1.6) (2.32.3)\n",
      "Requirement already satisfied: selenium<5.0.0,>=4.18.1 in c:\\pedro\\brincar\\multi ai agent systems with crewai\\venv\\lib\\site-packages (from crewai_tools==0.1.6) (4.31.0)\n",
      "Requirement already satisfied: PyYAML>=5.3 in c:\\pedro\\brincar\\multi ai agent systems with crewai\\venv\\lib\\site-packages (from langchain_community==0.0.29) (6.0.2)\n",
      "Requirement already satisfied: SQLAlchemy<3,>=1.4 in c:\\pedro\\brincar\\multi ai agent systems with crewai\\venv\\lib\\site-packages (from langchain_community==0.0.29) (2.0.40)\n",
      "Requirement already satisfied: aiohttp<4.0.0,>=3.8.3 in c:\\pedro\\brincar\\multi ai agent systems with crewai\\venv\\lib\\site-packages (from langchain_community==0.0.29) (3.11.18)\n",
      "Requirement already satisfied: dataclasses-json<0.7,>=0.5.7 in c:\\pedro\\brincar\\multi ai agent systems with crewai\\venv\\lib\\site-packages (from langchain_community==0.0.29) (0.6.7)\n",
      "Requirement already satisfied: langchain-core<0.2.0,>=0.1.33 in c:\\pedro\\brincar\\multi ai agent systems with crewai\\venv\\lib\\site-packages (from langchain_community==0.0.29) (0.1.53)\n",
      "Requirement already satisfied: langsmith<0.2.0,>=0.1.0 in c:\\pedro\\brincar\\multi ai agent systems with crewai\\venv\\lib\\site-packages (from langchain_community==0.0.29) (0.1.147)\n",
      "Requirement already satisfied: numpy<2,>=1 in c:\\pedro\\brincar\\multi ai agent systems with crewai\\venv\\lib\\site-packages (from langchain_community==0.0.29) (1.26.4)\n",
      "Requirement already satisfied: tenacity<9.0.0,>=8.1.0 in c:\\pedro\\brincar\\multi ai agent systems with crewai\\venv\\lib\\site-packages (from langchain_community==0.0.29) (8.5.0)\n",
      "Requirement already satisfied: aiohappyeyeballs>=2.3.0 in c:\\pedro\\brincar\\multi ai agent systems with crewai\\venv\\lib\\site-packages (from aiohttp<4.0.0,>=3.8.3->langchain_community==0.0.29) (2.6.1)\n",
      "Requirement already satisfied: aiosignal>=1.1.2 in c:\\pedro\\brincar\\multi ai agent systems with crewai\\venv\\lib\\site-packages (from aiohttp<4.0.0,>=3.8.3->langchain_community==0.0.29) (1.3.2)\n",
      "Requirement already satisfied: attrs>=17.3.0 in c:\\pedro\\brincar\\multi ai agent systems with crewai\\venv\\lib\\site-packages (from aiohttp<4.0.0,>=3.8.3->langchain_community==0.0.29) (25.3.0)\n",
      "Requirement already satisfied: frozenlist>=1.1.1 in c:\\pedro\\brincar\\multi ai agent systems with crewai\\venv\\lib\\site-packages (from aiohttp<4.0.0,>=3.8.3->langchain_community==0.0.29) (1.6.0)\n",
      "Requirement already satisfied: multidict<7.0,>=4.5 in c:\\pedro\\brincar\\multi ai agent systems with crewai\\venv\\lib\\site-packages (from aiohttp<4.0.0,>=3.8.3->langchain_community==0.0.29) (6.4.3)\n",
      "Requirement already satisfied: propcache>=0.2.0 in c:\\pedro\\brincar\\multi ai agent systems with crewai\\venv\\lib\\site-packages (from aiohttp<4.0.0,>=3.8.3->langchain_community==0.0.29) (0.3.1)\n",
      "Requirement already satisfied: yarl<2.0,>=1.17.0 in c:\\pedro\\brincar\\multi ai agent systems with crewai\\venv\\lib\\site-packages (from aiohttp<4.0.0,>=3.8.3->langchain_community==0.0.29) (1.20.0)\n",
      "Requirement already satisfied: soupsieve>1.2 in c:\\pedro\\brincar\\multi ai agent systems with crewai\\venv\\lib\\site-packages (from beautifulsoup4<5.0.0,>=4.12.3->crewai_tools==0.1.6) (2.7)\n",
      "Requirement already satisfied: typing-extensions>=4.0.0 in c:\\pedro\\brincar\\multi ai agent systems with crewai\\venv\\lib\\site-packages (from beautifulsoup4<5.0.0,>=4.12.3->crewai_tools==0.1.6) (4.13.2)\n",
      "Requirement already satisfied: build>=1.0.3 in c:\\pedro\\brincar\\multi ai agent systems with crewai\\venv\\lib\\site-packages (from chromadb<0.5.0,>=0.4.22->crewai_tools==0.1.6) (1.2.2.post1)\n",
      "Requirement already satisfied: chroma-hnswlib==0.7.3 in c:\\pedro\\brincar\\multi ai agent systems with crewai\\venv\\lib\\site-packages (from chromadb<0.5.0,>=0.4.22->crewai_tools==0.1.6) (0.7.3)\n",
      "Requirement already satisfied: fastapi>=0.95.2 in c:\\pedro\\brincar\\multi ai agent systems with crewai\\venv\\lib\\site-packages (from chromadb<0.5.0,>=0.4.22->crewai_tools==0.1.6) (0.115.12)\n",
      "Requirement already satisfied: uvicorn[standard]>=0.18.3 in c:\\pedro\\brincar\\multi ai agent systems with crewai\\venv\\lib\\site-packages (from chromadb<0.5.0,>=0.4.22->crewai_tools==0.1.6) (0.34.2)\n",
      "Requirement already satisfied: posthog>=2.4.0 in c:\\pedro\\brincar\\multi ai agent systems with crewai\\venv\\lib\\site-packages (from chromadb<0.5.0,>=0.4.22->crewai_tools==0.1.6) (3.25.0)\n",
      "Requirement already satisfied: pulsar-client>=3.1.0 in c:\\pedro\\brincar\\multi ai agent systems with crewai\\venv\\lib\\site-packages (from chromadb<0.5.0,>=0.4.22->crewai_tools==0.1.6) (3.6.1)\n",
      "Requirement already satisfied: onnxruntime>=1.14.1 in c:\\pedro\\brincar\\multi ai agent systems with crewai\\venv\\lib\\site-packages (from chromadb<0.5.0,>=0.4.22->crewai_tools==0.1.6) (1.21.1)\n",
      "Requirement already satisfied: opentelemetry-exporter-otlp-proto-grpc>=1.2.0 in c:\\pedro\\brincar\\multi ai agent systems with crewai\\venv\\lib\\site-packages (from chromadb<0.5.0,>=0.4.22->crewai_tools==0.1.6) (1.32.1)\n",
      "Requirement already satisfied: opentelemetry-instrumentation-fastapi>=0.41b0 in c:\\pedro\\brincar\\multi ai agent systems with crewai\\venv\\lib\\site-packages (from chromadb<0.5.0,>=0.4.22->crewai_tools==0.1.6) (0.53b1)\n",
      "Requirement already satisfied: tokenizers>=0.13.2 in c:\\pedro\\brincar\\multi ai agent systems with crewai\\venv\\lib\\site-packages (from chromadb<0.5.0,>=0.4.22->crewai_tools==0.1.6) (0.21.1)\n",
      "Requirement already satisfied: pypika>=0.48.9 in c:\\pedro\\brincar\\multi ai agent systems with crewai\\venv\\lib\\site-packages (from chromadb<0.5.0,>=0.4.22->crewai_tools==0.1.6) (0.48.9)\n",
      "Requirement already satisfied: tqdm>=4.65.0 in c:\\pedro\\brincar\\multi ai agent systems with crewai\\venv\\lib\\site-packages (from chromadb<0.5.0,>=0.4.22->crewai_tools==0.1.6) (4.67.1)\n",
      "Requirement already satisfied: overrides>=7.3.1 in c:\\pedro\\brincar\\multi ai agent systems with crewai\\venv\\lib\\site-packages (from chromadb<0.5.0,>=0.4.22->crewai_tools==0.1.6) (7.7.0)\n",
      "Requirement already satisfied: importlib-resources in c:\\pedro\\brincar\\multi ai agent systems with crewai\\venv\\lib\\site-packages (from chromadb<0.5.0,>=0.4.22->crewai_tools==0.1.6) (6.5.2)\n",
      "Requirement already satisfied: grpcio>=1.58.0 in c:\\pedro\\brincar\\multi ai agent systems with crewai\\venv\\lib\\site-packages (from chromadb<0.5.0,>=0.4.22->crewai_tools==0.1.6) (1.71.0)\n",
      "Requirement already satisfied: bcrypt>=4.0.1 in c:\\pedro\\brincar\\multi ai agent systems with crewai\\venv\\lib\\site-packages (from chromadb<0.5.0,>=0.4.22->crewai_tools==0.1.6) (4.3.0)\n",
      "Requirement already satisfied: typer>=0.9.0 in c:\\pedro\\brincar\\multi ai agent systems with crewai\\venv\\lib\\site-packages (from chromadb<0.5.0,>=0.4.22->crewai_tools==0.1.6) (0.9.4)\n",
      "Requirement already satisfied: kubernetes>=28.1.0 in c:\\pedro\\brincar\\multi ai agent systems with crewai\\venv\\lib\\site-packages (from chromadb<0.5.0,>=0.4.22->crewai_tools==0.1.6) (32.0.1)\n",
      "Requirement already satisfied: mmh3>=4.0.1 in c:\\pedro\\brincar\\multi ai agent systems with crewai\\venv\\lib\\site-packages (from chromadb<0.5.0,>=0.4.22->crewai_tools==0.1.6) (5.1.0)\n",
      "Requirement already satisfied: orjson>=3.9.12 in c:\\pedro\\brincar\\multi ai agent systems with crewai\\venv\\lib\\site-packages (from chromadb<0.5.0,>=0.4.22->crewai_tools==0.1.6) (3.10.16)\n",
      "Requirement already satisfied: colorama in c:\\pedro\\brincar\\multi ai agent systems with crewai\\venv\\lib\\site-packages (from click<9.0.0,>=8.1.7->crewai==0.28.8) (0.4.6)\n",
      "Requirement already satisfied: marshmallow<4.0.0,>=3.18.0 in c:\\pedro\\brincar\\multi ai agent systems with crewai\\venv\\lib\\site-packages (from dataclasses-json<0.7,>=0.5.7->langchain_community==0.0.29) (3.26.1)\n",
      "Requirement already satisfied: typing-inspect<1,>=0.4.0 in c:\\pedro\\brincar\\multi ai agent systems with crewai\\venv\\lib\\site-packages (from dataclasses-json<0.7,>=0.5.7->langchain_community==0.0.29) (0.9.0)\n",
      "Requirement already satisfied: alembic<2.0.0,>=1.13.1 in c:\\pedro\\brincar\\multi ai agent systems with crewai\\venv\\lib\\site-packages (from embedchain<0.2.0,>=0.1.98->crewai==0.28.8) (1.15.2)\n",
      "Requirement already satisfied: clarifai<11.0.0,>=10.0.1 in c:\\pedro\\brincar\\multi ai agent systems with crewai\\venv\\lib\\site-packages (from embedchain<0.2.0,>=0.1.98->crewai==0.28.8) (10.11.1)\n",
      "Requirement already satisfied: google-cloud-aiplatform<2.0.0,>=1.26.1 in c:\\pedro\\brincar\\multi ai agent systems with crewai\\venv\\lib\\site-packages (from embedchain<0.2.0,>=0.1.98->crewai==0.28.8) (1.90.0)\n",
      "Requirement already satisfied: gptcache<0.2.0,>=0.1.43 in c:\\pedro\\brincar\\multi ai agent systems with crewai\\venv\\lib\\site-packages (from embedchain<0.2.0,>=0.1.98->crewai==0.28.8) (0.1.44)\n",
      "Requirement already satisfied: langchain-cohere<0.2.0,>=0.1.4 in c:\\pedro\\brincar\\multi ai agent systems with crewai\\venv\\lib\\site-packages (from embedchain<0.2.0,>=0.1.98->crewai==0.28.8) (0.1.5)\n",
      "Requirement already satisfied: langchain-openai<0.2.0,>=0.1.7 in c:\\pedro\\brincar\\multi ai agent systems with crewai\\venv\\lib\\site-packages (from embedchain<0.2.0,>=0.1.98->crewai==0.28.8) (0.1.7)\n",
      "Requirement already satisfied: pypdf<5.0.0,>=4.0.1 in c:\\pedro\\brincar\\multi ai agent systems with crewai\\venv\\lib\\site-packages (from embedchain<0.2.0,>=0.1.98->crewai==0.28.8) (4.3.1)\n",
      "Requirement already satisfied: pysbd<0.4.0,>=0.3.4 in c:\\pedro\\brincar\\multi ai agent systems with crewai\\venv\\lib\\site-packages (from embedchain<0.2.0,>=0.1.98->crewai==0.28.8) (0.3.4)\n",
      "Requirement already satisfied: rich<14.0.0,>=13.7.0 in c:\\pedro\\brincar\\multi ai agent systems with crewai\\venv\\lib\\site-packages (from embedchain<0.2.0,>=0.1.98->crewai==0.28.8) (13.9.4)\n",
      "Requirement already satisfied: schema<0.8.0,>=0.7.5 in c:\\pedro\\brincar\\multi ai agent systems with crewai\\venv\\lib\\site-packages (from embedchain<0.2.0,>=0.1.98->crewai==0.28.8) (0.7.5)\n",
      "Requirement already satisfied: tiktoken<0.8.0,>=0.7.0 in c:\\pedro\\brincar\\multi ai agent systems with crewai\\venv\\lib\\site-packages (from embedchain<0.2.0,>=0.1.98->crewai==0.28.8) (0.7.0)\n",
      "Requirement already satisfied: PyGithub<2.0.0,>=1.59.1 in c:\\pedro\\brincar\\multi ai agent systems with crewai\\venv\\lib\\site-packages (from embedchain<0.2.0,>=0.1.98->crewai==0.28.8) (1.59.1)\n",
      "Requirement already satisfied: gitpython<4.0.0,>=3.1.38 in c:\\pedro\\brincar\\multi ai agent systems with crewai\\venv\\lib\\site-packages (from embedchain<0.2.0,>=0.1.98->crewai==0.28.8) (3.1.44)\n",
      "Requirement already satisfied: youtube-transcript-api<0.7.0,>=0.6.1 in c:\\pedro\\brincar\\multi ai agent systems with crewai\\venv\\lib\\site-packages (from embedchain<0.2.0,>=0.1.98->crewai==0.28.8) (0.6.3)\n",
      "Requirement already satisfied: yt_dlp<2024.0.0,>=2023.11.14 in c:\\pedro\\brincar\\multi ai agent systems with crewai\\venv\\lib\\site-packages (from embedchain<0.2.0,>=0.1.98->crewai==0.28.8) (2023.12.30)\n",
      "Requirement already satisfied: docstring-parser<0.16,>=0.15 in c:\\pedro\\brincar\\multi ai agent systems with crewai\\venv\\lib\\site-packages (from instructor<0.6.0,>=0.5.2->crewai==0.28.8) (0.15)\n",
      "Requirement already satisfied: deprecation in c:\\pedro\\brincar\\multi ai agent systems with crewai\\venv\\lib\\site-packages (from lancedb<0.6.0,>=0.5.4->crewai_tools==0.1.6) (2.1.0)\n",
      "Requirement already satisfied: pylance==0.9.18 in c:\\pedro\\brincar\\multi ai agent systems with crewai\\venv\\lib\\site-packages (from lancedb<0.6.0,>=0.5.4->crewai_tools==0.1.6) (0.9.18)\n",
      "Requirement already satisfied: ratelimiter~=1.0 in c:\\pedro\\brincar\\multi ai agent systems with crewai\\venv\\lib\\site-packages (from lancedb<0.6.0,>=0.5.4->crewai_tools==0.1.6) (1.2.0.post0)\n",
      "Requirement already satisfied: retry>=0.9.2 in c:\\pedro\\brincar\\multi ai agent systems with crewai\\venv\\lib\\site-packages (from lancedb<0.6.0,>=0.5.4->crewai_tools==0.1.6) (0.9.2)\n",
      "Requirement already satisfied: semver>=3.0 in c:\\pedro\\brincar\\multi ai agent systems with crewai\\venv\\lib\\site-packages (from lancedb<0.6.0,>=0.5.4->crewai_tools==0.1.6) (3.0.4)\n",
      "Requirement already satisfied: cachetools in c:\\pedro\\brincar\\multi ai agent systems with crewai\\venv\\lib\\site-packages (from lancedb<0.6.0,>=0.5.4->crewai_tools==0.1.6) (5.5.2)\n",
      "Requirement already satisfied: pyarrow>=12 in c:\\pedro\\brincar\\multi ai agent systems with crewai\\venv\\lib\\site-packages (from pylance==0.9.18->lancedb<0.6.0,>=0.5.4->crewai_tools==0.1.6) (19.0.1)\n",
      "Requirement already satisfied: jsonpatch<2.0,>=1.33 in c:\\pedro\\brincar\\multi ai agent systems with crewai\\venv\\lib\\site-packages (from langchain<0.2.0,>=0.1.10->crewai==0.28.8) (1.33)\n",
      "Requirement already satisfied: langchain-text-splitters<0.1,>=0.0.1 in c:\\pedro\\brincar\\multi ai agent systems with crewai\\venv\\lib\\site-packages (from langchain<0.2.0,>=0.1.10->crewai==0.28.8) (0.0.2)\n",
      "Requirement already satisfied: packaging<24.0,>=23.2 in c:\\pedro\\brincar\\multi ai agent systems with crewai\\venv\\lib\\site-packages (from langchain-core<0.2.0,>=0.1.33->langchain_community==0.0.29) (23.2)\n",
      "Requirement already satisfied: httpx<1,>=0.23.0 in c:\\pedro\\brincar\\multi ai agent systems with crewai\\venv\\lib\\site-packages (from langsmith<0.2.0,>=0.1.0->langchain_community==0.0.29) (0.28.1)\n",
      "Requirement already satisfied: requests-toolbelt<2.0.0,>=1.0.0 in c:\\pedro\\brincar\\multi ai agent systems with crewai\\venv\\lib\\site-packages (from langsmith<0.2.0,>=0.1.0->langchain_community==0.0.29) (1.0.0)\n",
      "Requirement already satisfied: anyio<5,>=3.5.0 in c:\\pedro\\brincar\\multi ai agent systems with crewai\\venv\\lib\\site-packages (from openai<2.0.0,>=1.13.3->crewai==0.28.8) (4.9.0)\n",
      "Requirement already satisfied: distro<2,>=1.7.0 in c:\\pedro\\brincar\\multi ai agent systems with crewai\\venv\\lib\\site-packages (from openai<2.0.0,>=1.13.3->crewai==0.28.8) (1.9.0)\n",
      "Requirement already satisfied: jiter<1,>=0.4.0 in c:\\pedro\\brincar\\multi ai agent systems with crewai\\venv\\lib\\site-packages (from openai<2.0.0,>=1.13.3->crewai==0.28.8) (0.9.0)\n",
      "Requirement already satisfied: sniffio in c:\\pedro\\brincar\\multi ai agent systems with crewai\\venv\\lib\\site-packages (from openai<2.0.0,>=1.13.3->crewai==0.28.8) (1.3.1)\n",
      "Requirement already satisfied: deprecated>=1.2.6 in c:\\pedro\\brincar\\multi ai agent systems with crewai\\venv\\lib\\site-packages (from opentelemetry-api<2.0.0,>=1.22.0->crewai==0.28.8) (1.2.18)\n",
      "Requirement already satisfied: importlib-metadata<8.7.0,>=6.0 in c:\\pedro\\brincar\\multi ai agent systems with crewai\\venv\\lib\\site-packages (from opentelemetry-api<2.0.0,>=1.22.0->crewai==0.28.8) (8.6.1)\n",
      "Requirement already satisfied: googleapis-common-protos~=1.52 in c:\\pedro\\brincar\\multi ai agent systems with crewai\\venv\\lib\\site-packages (from opentelemetry-exporter-otlp-proto-http<2.0.0,>=1.22.0->crewai==0.28.8) (1.70.0)\n",
      "Requirement already satisfied: opentelemetry-exporter-otlp-proto-common==1.32.1 in c:\\pedro\\brincar\\multi ai agent systems with crewai\\venv\\lib\\site-packages (from opentelemetry-exporter-otlp-proto-http<2.0.0,>=1.22.0->crewai==0.28.8) (1.32.1)\n",
      "Requirement already satisfied: opentelemetry-proto==1.32.1 in c:\\pedro\\brincar\\multi ai agent systems with crewai\\venv\\lib\\site-packages (from opentelemetry-exporter-otlp-proto-http<2.0.0,>=1.22.0->crewai==0.28.8) (1.32.1)\n",
      "Requirement already satisfied: protobuf<6.0,>=5.0 in c:\\pedro\\brincar\\multi ai agent systems with crewai\\venv\\lib\\site-packages (from opentelemetry-proto==1.32.1->opentelemetry-exporter-otlp-proto-http<2.0.0,>=1.22.0->crewai==0.28.8) (5.29.4)\n",
      "Requirement already satisfied: opentelemetry-semantic-conventions==0.53b1 in c:\\pedro\\brincar\\multi ai agent systems with crewai\\venv\\lib\\site-packages (from opentelemetry-sdk<2.0.0,>=1.22.0->crewai==0.28.8) (0.53b1)\n",
      "Requirement already satisfied: annotated-types>=0.6.0 in c:\\pedro\\brincar\\multi ai agent systems with crewai\\venv\\lib\\site-packages (from pydantic<3.0.0,>=2.4.2->crewai==0.28.8) (0.7.0)\n",
      "Requirement already satisfied: pydantic-core==2.33.1 in c:\\pedro\\brincar\\multi ai agent systems with crewai\\venv\\lib\\site-packages (from pydantic<3.0.0,>=2.4.2->crewai==0.28.8) (2.33.1)\n",
      "Requirement already satisfied: typing-inspection>=0.4.0 in c:\\pedro\\brincar\\multi ai agent systems with crewai\\venv\\lib\\site-packages (from pydantic<3.0.0,>=2.4.2->crewai==0.28.8) (0.4.0)\n",
      "Requirement already satisfied: nodeenv>=1.6.0 in c:\\pedro\\brincar\\multi ai agent systems with crewai\\venv\\lib\\site-packages (from pyright<2.0.0,>=1.1.350->crewai_tools==0.1.6) (1.9.1)\n",
      "Requirement already satisfied: iniconfig in c:\\pedro\\brincar\\multi ai agent systems with crewai\\venv\\lib\\site-packages (from pytest<9.0.0,>=8.0.0->crewai_tools==0.1.6) (2.1.0)\n",
      "Requirement already satisfied: pluggy<2,>=1.5 in c:\\pedro\\brincar\\multi ai agent systems with crewai\\venv\\lib\\site-packages (from pytest<9.0.0,>=8.0.0->crewai_tools==0.1.6) (1.5.0)\n",
      "Requirement already satisfied: charset-normalizer<4,>=2 in c:\\pedro\\brincar\\multi ai agent systems with crewai\\venv\\lib\\site-packages (from requests<3.0.0,>=2.31.0->crewai_tools==0.1.6) (3.4.1)\n",
      "Requirement already satisfied: idna<4,>=2.5 in c:\\pedro\\brincar\\multi ai agent systems with crewai\\venv\\lib\\site-packages (from requests<3.0.0,>=2.31.0->crewai_tools==0.1.6) (3.10)\n",
      "Requirement already satisfied: urllib3<3,>=1.21.1 in c:\\pedro\\brincar\\multi ai agent systems with crewai\\venv\\lib\\site-packages (from requests<3.0.0,>=2.31.0->crewai_tools==0.1.6) (2.4.0)\n",
      "Requirement already satisfied: certifi>=2017.4.17 in c:\\pedro\\brincar\\multi ai agent systems with crewai\\venv\\lib\\site-packages (from requests<3.0.0,>=2.31.0->crewai_tools==0.1.6) (2025.4.26)\n",
      "Requirement already satisfied: trio~=0.17 in c:\\pedro\\brincar\\multi ai agent systems with crewai\\venv\\lib\\site-packages (from selenium<5.0.0,>=4.18.1->crewai_tools==0.1.6) (0.30.0)\n",
      "Requirement already satisfied: trio-websocket~=0.9 in c:\\pedro\\brincar\\multi ai agent systems with crewai\\venv\\lib\\site-packages (from selenium<5.0.0,>=4.18.1->crewai_tools==0.1.6) (0.12.2)\n",
      "Requirement already satisfied: websocket-client~=1.8 in c:\\pedro\\brincar\\multi ai agent systems with crewai\\venv\\lib\\site-packages (from selenium<5.0.0,>=4.18.1->crewai_tools==0.1.6) (1.8.0)\n",
      "Requirement already satisfied: greenlet>=1 in c:\\pedro\\brincar\\multi ai agent systems with crewai\\venv\\lib\\site-packages (from SQLAlchemy<3,>=1.4->langchain_community==0.0.29) (3.2.1)\n",
      "Requirement already satisfied: Mako in c:\\pedro\\brincar\\multi ai agent systems with crewai\\venv\\lib\\site-packages (from alembic<2.0.0,>=1.13.1->embedchain<0.2.0,>=0.1.98->crewai==0.28.8) (1.3.10)\n",
      "Requirement already satisfied: pyproject_hooks in c:\\pedro\\brincar\\multi ai agent systems with crewai\\venv\\lib\\site-packages (from build>=1.0.3->chromadb<0.5.0,>=0.4.22->crewai_tools==0.1.6) (1.2.0)\n",
      "Requirement already satisfied: clarifai-grpc>=10.11.2 in c:\\pedro\\brincar\\multi ai agent systems with crewai\\venv\\lib\\site-packages (from clarifai<11.0.0,>=10.0.1->embedchain<0.2.0,>=0.1.98->crewai==0.28.8) (11.3.2)\n",
      "Requirement already satisfied: clarifai-protocol>=0.0.14 in c:\\pedro\\brincar\\multi ai agent systems with crewai\\venv\\lib\\site-packages (from clarifai<11.0.0,>=10.0.1->embedchain<0.2.0,>=0.1.98->crewai==0.28.8) (0.0.14)\n",
      "Requirement already satisfied: tritonclient>=2.34.0 in c:\\pedro\\brincar\\multi ai agent systems with crewai\\venv\\lib\\site-packages (from clarifai<11.0.0,>=10.0.1->embedchain<0.2.0,>=0.1.98->crewai==0.28.8) (2.56.0)\n",
      "Requirement already satisfied: Pillow>=9.5.0 in c:\\pedro\\brincar\\multi ai agent systems with crewai\\venv\\lib\\site-packages (from clarifai<11.0.0,>=10.0.1->embedchain<0.2.0,>=0.1.98->crewai==0.28.8) (11.2.1)\n",
      "Requirement already satisfied: inquirerpy==0.3.4 in c:\\pedro\\brincar\\multi ai agent systems with crewai\\venv\\lib\\site-packages (from clarifai<11.0.0,>=10.0.1->embedchain<0.2.0,>=0.1.98->crewai==0.28.8) (0.3.4)\n",
      "Requirement already satisfied: tabulate>=0.9.0 in c:\\pedro\\brincar\\multi ai agent systems with crewai\\venv\\lib\\site-packages (from clarifai<11.0.0,>=10.0.1->embedchain<0.2.0,>=0.1.98->crewai==0.28.8) (0.9.0)\n",
      "Requirement already satisfied: fsspec==2024.6.1 in c:\\pedro\\brincar\\multi ai agent systems with crewai\\venv\\lib\\site-packages (from clarifai<11.0.0,>=10.0.1->embedchain<0.2.0,>=0.1.98->crewai==0.28.8) (2024.6.1)\n",
      "Requirement already satisfied: contextlib2>=0.5.5 in c:\\pedro\\brincar\\multi ai agent systems with crewai\\venv\\lib\\site-packages (from schema<0.8.0,>=0.7.5->embedchain<0.2.0,>=0.1.98->crewai==0.28.8) (21.6.0)\n",
      "Requirement already satisfied: pfzy<0.4.0,>=0.3.1 in c:\\pedro\\brincar\\multi ai agent systems with crewai\\venv\\lib\\site-packages (from inquirerpy==0.3.4->clarifai<11.0.0,>=10.0.1->embedchain<0.2.0,>=0.1.98->crewai==0.28.8) (0.3.4)\n",
      "Requirement already satisfied: prompt-toolkit<4.0.0,>=3.0.1 in c:\\pedro\\brincar\\multi ai agent systems with crewai\\venv\\lib\\site-packages (from inquirerpy==0.3.4->clarifai<11.0.0,>=10.0.1->embedchain<0.2.0,>=0.1.98->crewai==0.28.8) (3.0.51)\n",
      "Requirement already satisfied: wrapt<2,>=1.10 in c:\\pedro\\brincar\\multi ai agent systems with crewai\\venv\\lib\\site-packages (from deprecated>=1.2.6->opentelemetry-api<2.0.0,>=1.22.0->crewai==0.28.8) (1.17.2)\n",
      "Requirement already satisfied: starlette<0.47.0,>=0.40.0 in c:\\pedro\\brincar\\multi ai agent systems with crewai\\venv\\lib\\site-packages (from fastapi>=0.95.2->chromadb<0.5.0,>=0.4.22->crewai_tools==0.1.6) (0.46.2)\n",
      "Requirement already satisfied: gitdb<5,>=4.0.1 in c:\\pedro\\brincar\\multi ai agent systems with crewai\\venv\\lib\\site-packages (from gitpython<4.0.0,>=3.1.38->embedchain<0.2.0,>=0.1.98->crewai==0.28.8) (4.0.12)\n",
      "Requirement already satisfied: google-api-core[grpc]!=2.0.*,!=2.1.*,!=2.2.*,!=2.3.*,!=2.4.*,!=2.5.*,!=2.6.*,!=2.7.*,<3.0.0,>=1.34.1 in c:\\pedro\\brincar\\multi ai agent systems with crewai\\venv\\lib\\site-packages (from google-cloud-aiplatform<2.0.0,>=1.26.1->embedchain<0.2.0,>=0.1.98->crewai==0.28.8) (2.24.2)\n",
      "Requirement already satisfied: google-auth<3.0.0,>=2.14.1 in c:\\pedro\\brincar\\multi ai agent systems with crewai\\venv\\lib\\site-packages (from google-cloud-aiplatform<2.0.0,>=1.26.1->embedchain<0.2.0,>=0.1.98->crewai==0.28.8) (2.39.0)\n",
      "Requirement already satisfied: proto-plus<2.0.0,>=1.22.3 in c:\\pedro\\brincar\\multi ai agent systems with crewai\\venv\\lib\\site-packages (from google-cloud-aiplatform<2.0.0,>=1.26.1->embedchain<0.2.0,>=0.1.98->crewai==0.28.8) (1.26.1)\n",
      "Requirement already satisfied: google-cloud-storage<3.0.0,>=1.32.0 in c:\\pedro\\brincar\\multi ai agent systems with crewai\\venv\\lib\\site-packages (from google-cloud-aiplatform<2.0.0,>=1.26.1->embedchain<0.2.0,>=0.1.98->crewai==0.28.8) (2.19.0)\n",
      "Requirement already satisfied: google-cloud-bigquery!=3.20.0,<4.0.0,>=1.15.0 in c:\\pedro\\brincar\\multi ai agent systems with crewai\\venv\\lib\\site-packages (from google-cloud-aiplatform<2.0.0,>=1.26.1->embedchain<0.2.0,>=0.1.98->crewai==0.28.8) (3.30.0)\n",
      "Requirement already satisfied: google-cloud-resource-manager<3.0.0,>=1.3.3 in c:\\pedro\\brincar\\multi ai agent systems with crewai\\venv\\lib\\site-packages (from google-cloud-aiplatform<2.0.0,>=1.26.1->embedchain<0.2.0,>=0.1.98->crewai==0.28.8) (1.14.2)\n",
      "Requirement already satisfied: shapely<3.0.0 in c:\\pedro\\brincar\\multi ai agent systems with crewai\\venv\\lib\\site-packages (from google-cloud-aiplatform<2.0.0,>=1.26.1->embedchain<0.2.0,>=0.1.98->crewai==0.28.8) (2.1.0)\n",
      "Requirement already satisfied: httpcore==1.* in c:\\pedro\\brincar\\multi ai agent systems with crewai\\venv\\lib\\site-packages (from httpx<1,>=0.23.0->langsmith<0.2.0,>=0.1.0->langchain_community==0.0.29) (1.0.9)\n",
      "Requirement already satisfied: h11>=0.16 in c:\\pedro\\brincar\\multi ai agent systems with crewai\\venv\\lib\\site-packages (from httpcore==1.*->httpx<1,>=0.23.0->langsmith<0.2.0,>=0.1.0->langchain_community==0.0.29) (0.16.0)\n",
      "Requirement already satisfied: zipp>=3.20 in c:\\pedro\\brincar\\multi ai agent systems with crewai\\venv\\lib\\site-packages (from importlib-metadata<8.7.0,>=6.0->opentelemetry-api<2.0.0,>=1.22.0->crewai==0.28.8) (3.21.0)\n",
      "Requirement already satisfied: jsonpointer>=1.9 in c:\\pedro\\brincar\\multi ai agent systems with crewai\\venv\\lib\\site-packages (from jsonpatch<2.0,>=1.33->langchain<0.2.0,>=0.1.10->crewai==0.28.8) (3.0.0)\n",
      "Requirement already satisfied: six>=1.9.0 in c:\\pedro\\brincar\\multi ai agent systems with crewai\\venv\\lib\\site-packages (from kubernetes>=28.1.0->chromadb<0.5.0,>=0.4.22->crewai_tools==0.1.6) (1.17.0)\n",
      "Requirement already satisfied: python-dateutil>=2.5.3 in c:\\pedro\\brincar\\multi ai agent systems with crewai\\venv\\lib\\site-packages (from kubernetes>=28.1.0->chromadb<0.5.0,>=0.4.22->crewai_tools==0.1.6) (2.9.0.post0)\n",
      "Requirement already satisfied: requests-oauthlib in c:\\pedro\\brincar\\multi ai agent systems with crewai\\venv\\lib\\site-packages (from kubernetes>=28.1.0->chromadb<0.5.0,>=0.4.22->crewai_tools==0.1.6) (2.0.0)\n",
      "Requirement already satisfied: oauthlib>=3.2.2 in c:\\pedro\\brincar\\multi ai agent systems with crewai\\venv\\lib\\site-packages (from kubernetes>=28.1.0->chromadb<0.5.0,>=0.4.22->crewai_tools==0.1.6) (3.2.2)\n",
      "Requirement already satisfied: durationpy>=0.7 in c:\\pedro\\brincar\\multi ai agent systems with crewai\\venv\\lib\\site-packages (from kubernetes>=28.1.0->chromadb<0.5.0,>=0.4.22->crewai_tools==0.1.6) (0.9)\n",
      "Requirement already satisfied: cohere<6.0,>=5.5 in c:\\pedro\\brincar\\multi ai agent systems with crewai\\venv\\lib\\site-packages (from langchain-cohere<0.2.0,>=0.1.4->embedchain<0.2.0,>=0.1.98->crewai==0.28.8) (5.15.0)\n",
      "Requirement already satisfied: coloredlogs in c:\\pedro\\brincar\\multi ai agent systems with crewai\\venv\\lib\\site-packages (from onnxruntime>=1.14.1->chromadb<0.5.0,>=0.4.22->crewai_tools==0.1.6) (15.0.1)\n",
      "Requirement already satisfied: flatbuffers in c:\\pedro\\brincar\\multi ai agent systems with crewai\\venv\\lib\\site-packages (from onnxruntime>=1.14.1->chromadb<0.5.0,>=0.4.22->crewai_tools==0.1.6) (25.2.10)\n",
      "Requirement already satisfied: sympy in c:\\pedro\\brincar\\multi ai agent systems with crewai\\venv\\lib\\site-packages (from onnxruntime>=1.14.1->chromadb<0.5.0,>=0.4.22->crewai_tools==0.1.6) (1.13.3)\n",
      "Requirement already satisfied: opentelemetry-instrumentation-asgi==0.53b1 in c:\\pedro\\brincar\\multi ai agent systems with crewai\\venv\\lib\\site-packages (from opentelemetry-instrumentation-fastapi>=0.41b0->chromadb<0.5.0,>=0.4.22->crewai_tools==0.1.6) (0.53b1)\n",
      "Requirement already satisfied: opentelemetry-instrumentation==0.53b1 in c:\\pedro\\brincar\\multi ai agent systems with crewai\\venv\\lib\\site-packages (from opentelemetry-instrumentation-fastapi>=0.41b0->chromadb<0.5.0,>=0.4.22->crewai_tools==0.1.6) (0.53b1)\n",
      "Requirement already satisfied: opentelemetry-util-http==0.53b1 in c:\\pedro\\brincar\\multi ai agent systems with crewai\\venv\\lib\\site-packages (from opentelemetry-instrumentation-fastapi>=0.41b0->chromadb<0.5.0,>=0.4.22->crewai_tools==0.1.6) (0.53b1)\n",
      "Requirement already satisfied: asgiref~=3.0 in c:\\pedro\\brincar\\multi ai agent systems with crewai\\venv\\lib\\site-packages (from opentelemetry-instrumentation-asgi==0.53b1->opentelemetry-instrumentation-fastapi>=0.41b0->chromadb<0.5.0,>=0.4.22->crewai_tools==0.1.6) (3.8.1)\n",
      "Requirement already satisfied: monotonic>=1.5 in c:\\pedro\\brincar\\multi ai agent systems with crewai\\venv\\lib\\site-packages (from posthog>=2.4.0->chromadb<0.5.0,>=0.4.22->crewai_tools==0.1.6) (1.6)\n",
      "Requirement already satisfied: backoff>=1.10.0 in c:\\pedro\\brincar\\multi ai agent systems with crewai\\venv\\lib\\site-packages (from posthog>=2.4.0->chromadb<0.5.0,>=0.4.22->crewai_tools==0.1.6) (2.2.1)\n",
      "Requirement already satisfied: pyjwt[crypto]>=2.4.0 in c:\\pedro\\brincar\\multi ai agent systems with crewai\\venv\\lib\\site-packages (from PyGithub<2.0.0,>=1.59.1->embedchain<0.2.0,>=0.1.98->crewai==0.28.8) (2.10.1)\n",
      "Requirement already satisfied: pynacl>=1.4.0 in c:\\pedro\\brincar\\multi ai agent systems with crewai\\venv\\lib\\site-packages (from PyGithub<2.0.0,>=1.59.1->embedchain<0.2.0,>=0.1.98->crewai==0.28.8) (1.5.0)\n",
      "Requirement already satisfied: decorator>=3.4.2 in c:\\pedro\\brincar\\multi ai agent systems with crewai\\venv\\lib\\site-packages (from retry>=0.9.2->lancedb<0.6.0,>=0.5.4->crewai_tools==0.1.6) (5.2.1)\n",
      "Requirement already satisfied: py<2.0.0,>=1.4.26 in c:\\pedro\\brincar\\multi ai agent systems with crewai\\venv\\lib\\site-packages (from retry>=0.9.2->lancedb<0.6.0,>=0.5.4->crewai_tools==0.1.6) (1.11.0)\n",
      "Requirement already satisfied: markdown-it-py>=2.2.0 in c:\\pedro\\brincar\\multi ai agent systems with crewai\\venv\\lib\\site-packages (from rich<14.0.0,>=13.7.0->embedchain<0.2.0,>=0.1.98->crewai==0.28.8) (3.0.0)\n",
      "Requirement already satisfied: pygments<3.0.0,>=2.13.0 in c:\\pedro\\brincar\\multi ai agent systems with crewai\\venv\\lib\\site-packages (from rich<14.0.0,>=13.7.0->embedchain<0.2.0,>=0.1.98->crewai==0.28.8) (2.19.1)\n",
      "Requirement already satisfied: huggingface-hub<1.0,>=0.16.4 in c:\\pedro\\brincar\\multi ai agent systems with crewai\\venv\\lib\\site-packages (from tokenizers>=0.13.2->chromadb<0.5.0,>=0.4.22->crewai_tools==0.1.6) (0.30.2)\n",
      "Requirement already satisfied: sortedcontainers in c:\\pedro\\brincar\\multi ai agent systems with crewai\\venv\\lib\\site-packages (from trio~=0.17->selenium<5.0.0,>=4.18.1->crewai_tools==0.1.6) (2.4.0)\n",
      "Requirement already satisfied: outcome in c:\\pedro\\brincar\\multi ai agent systems with crewai\\venv\\lib\\site-packages (from trio~=0.17->selenium<5.0.0,>=4.18.1->crewai_tools==0.1.6) (1.3.0.post0)\n",
      "Requirement already satisfied: cffi>=1.14 in c:\\pedro\\brincar\\multi ai agent systems with crewai\\venv\\lib\\site-packages (from trio~=0.17->selenium<5.0.0,>=4.18.1->crewai_tools==0.1.6) (1.17.1)\n",
      "Requirement already satisfied: wsproto>=0.14 in c:\\pedro\\brincar\\multi ai agent systems with crewai\\venv\\lib\\site-packages (from trio-websocket~=0.9->selenium<5.0.0,>=4.18.1->crewai_tools==0.1.6) (1.2.0)\n",
      "Requirement already satisfied: mypy-extensions>=0.3.0 in c:\\pedro\\brincar\\multi ai agent systems with crewai\\venv\\lib\\site-packages (from typing-inspect<1,>=0.4.0->dataclasses-json<0.7,>=0.5.7->langchain_community==0.0.29) (1.1.0)\n",
      "Requirement already satisfied: pysocks!=1.5.7,<2.0,>=1.5.6 in c:\\pedro\\brincar\\multi ai agent systems with crewai\\venv\\lib\\site-packages (from urllib3<3,>=1.21.1->requests<3.0.0,>=2.31.0->crewai_tools==0.1.6) (1.7.1)\n",
      "Requirement already satisfied: httptools>=0.6.3 in c:\\pedro\\brincar\\multi ai agent systems with crewai\\venv\\lib\\site-packages (from uvicorn[standard]>=0.18.3->chromadb<0.5.0,>=0.4.22->crewai_tools==0.1.6) (0.6.4)\n",
      "Requirement already satisfied: watchfiles>=0.13 in c:\\pedro\\brincar\\multi ai agent systems with crewai\\venv\\lib\\site-packages (from uvicorn[standard]>=0.18.3->chromadb<0.5.0,>=0.4.22->crewai_tools==0.1.6) (1.0.5)\n",
      "Requirement already satisfied: websockets>=10.4 in c:\\pedro\\brincar\\multi ai agent systems with crewai\\venv\\lib\\site-packages (from uvicorn[standard]>=0.18.3->chromadb<0.5.0,>=0.4.22->crewai_tools==0.1.6) (15.0.1)\n",
      "Requirement already satisfied: defusedxml<0.8.0,>=0.7.1 in c:\\pedro\\brincar\\multi ai agent systems with crewai\\venv\\lib\\site-packages (from youtube-transcript-api<0.7.0,>=0.6.1->embedchain<0.2.0,>=0.1.98->crewai==0.28.8) (0.7.1)\n",
      "Requirement already satisfied: mutagen in c:\\pedro\\brincar\\multi ai agent systems with crewai\\venv\\lib\\site-packages (from yt_dlp<2024.0.0,>=2023.11.14->embedchain<0.2.0,>=0.1.98->crewai==0.28.8) (1.47.0)\n",
      "Requirement already satisfied: pycryptodomex in c:\\pedro\\brincar\\multi ai agent systems with crewai\\venv\\lib\\site-packages (from yt_dlp<2024.0.0,>=2023.11.14->embedchain<0.2.0,>=0.1.98->crewai==0.28.8) (3.22.0)\n",
      "Requirement already satisfied: brotli in c:\\pedro\\brincar\\multi ai agent systems with crewai\\venv\\lib\\site-packages (from yt_dlp<2024.0.0,>=2023.11.14->embedchain<0.2.0,>=0.1.98->crewai==0.28.8) (1.1.0)\n",
      "Requirement already satisfied: pycparser in c:\\pedro\\brincar\\multi ai agent systems with crewai\\venv\\lib\\site-packages (from cffi>=1.14->trio~=0.17->selenium<5.0.0,>=4.18.1->crewai_tools==0.1.6) (2.22)\n",
      "Requirement already satisfied: fastavro<2.0.0,>=1.9.4 in c:\\pedro\\brincar\\multi ai agent systems with crewai\\venv\\lib\\site-packages (from cohere<6.0,>=5.5->langchain-cohere<0.2.0,>=0.1.4->embedchain<0.2.0,>=0.1.98->crewai==0.28.8) (1.10.0)\n",
      "Requirement already satisfied: httpx-sse==0.4.0 in c:\\pedro\\brincar\\multi ai agent systems with crewai\\venv\\lib\\site-packages (from cohere<6.0,>=5.5->langchain-cohere<0.2.0,>=0.1.4->embedchain<0.2.0,>=0.1.98->crewai==0.28.8) (0.4.0)\n",
      "Requirement already satisfied: types-requests<3.0.0,>=2.0.0 in c:\\pedro\\brincar\\multi ai agent systems with crewai\\venv\\lib\\site-packages (from cohere<6.0,>=5.5->langchain-cohere<0.2.0,>=0.1.4->embedchain<0.2.0,>=0.1.98->crewai==0.28.8) (2.32.0.20250328)\n",
      "Requirement already satisfied: smmap<6,>=3.0.1 in c:\\pedro\\brincar\\multi ai agent systems with crewai\\venv\\lib\\site-packages (from gitdb<5,>=4.0.1->gitpython<4.0.0,>=3.1.38->embedchain<0.2.0,>=0.1.98->crewai==0.28.8) (5.0.2)\n",
      "Requirement already satisfied: grpcio-status<2.0.dev0,>=1.33.2 in c:\\pedro\\brincar\\multi ai agent systems with crewai\\venv\\lib\\site-packages (from google-api-core[grpc]!=2.0.*,!=2.1.*,!=2.2.*,!=2.3.*,!=2.4.*,!=2.5.*,!=2.6.*,!=2.7.*,<3.0.0,>=1.34.1->google-cloud-aiplatform<2.0.0,>=1.26.1->embedchain<0.2.0,>=0.1.98->crewai==0.28.8) (1.71.0)\n",
      "Requirement already satisfied: pyasn1-modules>=0.2.1 in c:\\pedro\\brincar\\multi ai agent systems with crewai\\venv\\lib\\site-packages (from google-auth<3.0.0,>=2.14.1->google-cloud-aiplatform<2.0.0,>=1.26.1->embedchain<0.2.0,>=0.1.98->crewai==0.28.8) (0.4.2)\n",
      "Requirement already satisfied: rsa<5,>=3.1.4 in c:\\pedro\\brincar\\multi ai agent systems with crewai\\venv\\lib\\site-packages (from google-auth<3.0.0,>=2.14.1->google-cloud-aiplatform<2.0.0,>=1.26.1->embedchain<0.2.0,>=0.1.98->crewai==0.28.8) (4.9.1)\n",
      "Requirement already satisfied: google-cloud-core<3.0.0dev,>=2.4.1 in c:\\pedro\\brincar\\multi ai agent systems with crewai\\venv\\lib\\site-packages (from google-cloud-bigquery!=3.20.0,<4.0.0,>=1.15.0->google-cloud-aiplatform<2.0.0,>=1.26.1->embedchain<0.2.0,>=0.1.98->crewai==0.28.8) (2.4.3)\n",
      "Requirement already satisfied: google-resumable-media<3.0dev,>=2.0.0 in c:\\pedro\\brincar\\multi ai agent systems with crewai\\venv\\lib\\site-packages (from google-cloud-bigquery!=3.20.0,<4.0.0,>=1.15.0->google-cloud-aiplatform<2.0.0,>=1.26.1->embedchain<0.2.0,>=0.1.98->crewai==0.28.8) (2.7.2)\n",
      "Requirement already satisfied: grpc-google-iam-v1<1.0.0,>=0.14.0 in c:\\pedro\\brincar\\multi ai agent systems with crewai\\venv\\lib\\site-packages (from google-cloud-resource-manager<3.0.0,>=1.3.3->google-cloud-aiplatform<2.0.0,>=1.26.1->embedchain<0.2.0,>=0.1.98->crewai==0.28.8) (0.14.2)\n",
      "Requirement already satisfied: google-crc32c<2.0dev,>=1.0 in c:\\pedro\\brincar\\multi ai agent systems with crewai\\venv\\lib\\site-packages (from google-cloud-storage<3.0.0,>=1.32.0->google-cloud-aiplatform<2.0.0,>=1.26.1->embedchain<0.2.0,>=0.1.98->crewai==0.28.8) (1.7.1)\n",
      "Requirement already satisfied: filelock in c:\\pedro\\brincar\\multi ai agent systems with crewai\\venv\\lib\\site-packages (from huggingface-hub<1.0,>=0.16.4->tokenizers>=0.13.2->chromadb<0.5.0,>=0.4.22->crewai_tools==0.1.6) (3.18.0)\n",
      "Requirement already satisfied: mdurl~=0.1 in c:\\pedro\\brincar\\multi ai agent systems with crewai\\venv\\lib\\site-packages (from markdown-it-py>=2.2.0->rich<14.0.0,>=13.7.0->embedchain<0.2.0,>=0.1.98->crewai==0.28.8) (0.1.2)\n",
      "Requirement already satisfied: cryptography>=3.4.0 in c:\\pedro\\brincar\\multi ai agent systems with crewai\\venv\\lib\\site-packages (from pyjwt[crypto]>=2.4.0->PyGithub<2.0.0,>=1.59.1->embedchain<0.2.0,>=0.1.98->crewai==0.28.8) (44.0.2)\n",
      "Requirement already satisfied: python-rapidjson>=0.9.1 in c:\\pedro\\brincar\\multi ai agent systems with crewai\\venv\\lib\\site-packages (from tritonclient>=2.34.0->clarifai<11.0.0,>=10.0.1->embedchain<0.2.0,>=0.1.98->crewai==0.28.8) (1.20)\n",
      "Requirement already satisfied: humanfriendly>=9.1 in c:\\pedro\\brincar\\multi ai agent systems with crewai\\venv\\lib\\site-packages (from coloredlogs->onnxruntime>=1.14.1->chromadb<0.5.0,>=0.4.22->crewai_tools==0.1.6) (10.0)\n",
      "Requirement already satisfied: MarkupSafe>=0.9.2 in c:\\pedro\\brincar\\multi ai agent systems with crewai\\venv\\lib\\site-packages (from Mako->alembic<2.0.0,>=1.13.1->embedchain<0.2.0,>=0.1.98->crewai==0.28.8) (3.0.2)\n",
      "Requirement already satisfied: mpmath<1.4,>=1.1.0 in c:\\pedro\\brincar\\multi ai agent systems with crewai\\venv\\lib\\site-packages (from sympy->onnxruntime>=1.14.1->chromadb<0.5.0,>=0.4.22->crewai_tools==0.1.6) (1.3.0)\n",
      "Requirement already satisfied: pyreadline3 in c:\\pedro\\brincar\\multi ai agent systems with crewai\\venv\\lib\\site-packages (from humanfriendly>=9.1->coloredlogs->onnxruntime>=1.14.1->chromadb<0.5.0,>=0.4.22->crewai_tools==0.1.6) (3.5.4)\n",
      "Requirement already satisfied: wcwidth in c:\\pedro\\brincar\\multi ai agent systems with crewai\\venv\\lib\\site-packages (from prompt-toolkit<4.0.0,>=3.0.1->inquirerpy==0.3.4->clarifai<11.0.0,>=10.0.1->embedchain<0.2.0,>=0.1.98->crewai==0.28.8) (0.2.13)\n",
      "Requirement already satisfied: pyasn1<0.7.0,>=0.6.1 in c:\\pedro\\brincar\\multi ai agent systems with crewai\\venv\\lib\\site-packages (from pyasn1-modules>=0.2.1->google-auth<3.0.0,>=2.14.1->google-cloud-aiplatform<2.0.0,>=1.26.1->embedchain<0.2.0,>=0.1.98->crewai==0.28.8) (0.6.1)\n"
     ]
    },
    {
     "name": "stderr",
     "output_type": "stream",
     "text": [
      "\n",
      "[notice] A new release of pip is available: 23.2.1 -> 25.1\n",
      "[notice] To update, run: python.exe -m pip install --upgrade pip\n"
     ]
    }
   ],
   "execution_count": 1
  },
  {
   "metadata": {
    "ExecuteTime": {
     "end_time": "2025-04-27T14:24:35.258927Z",
     "start_time": "2025-04-27T14:24:35.253807Z"
    }
   },
   "cell_type": "code",
   "source": [
    "# Warning control\n",
    "import warnings\n",
    "warnings.filterwarnings('ignore')"
   ],
   "id": "7fed73fd6d389d91",
   "outputs": [],
   "execution_count": 32
  },
  {
   "metadata": {
    "ExecuteTime": {
     "end_time": "2025-04-27T14:24:35.783532Z",
     "start_time": "2025-04-27T14:24:35.778574Z"
    }
   },
   "cell_type": "code",
   "source": "from crewai import Agent, Task, Crew",
   "id": "363b2d2642c2c256",
   "outputs": [],
   "execution_count": 33
  },
  {
   "metadata": {
    "ExecuteTime": {
     "end_time": "2025-04-27T14:26:27.482661Z",
     "start_time": "2025-04-27T14:26:27.471879Z"
    }
   },
   "cell_type": "code",
   "source": [
    "from dotenv import load_dotenv\n",
    "import os\n",
    "\n",
    "load_dotenv()  # this loads the .env file automatically\n",
    "\n",
    "os.environ[\"OPENAI_API_KEY\"] = os.getenv(\"OPENAI_API_KEY\")\n",
    "os.environ[\"OPENAI_API_BASE\"]  = os.getenv(\"OPENAI_API_BASE\")\n",
    "os.environ[\"OPENAI_MODEL_NAME\"] = os.getenv(\"OPENAI_MODEL_NAME\")"
   ],
   "id": "b21e380d74cefe4a",
   "outputs": [],
   "execution_count": 44
  },
  {
   "metadata": {},
   "cell_type": "markdown",
   "source": "# Role Playing, Focus and Cooperation",
   "id": "499022196ab0a584"
  },
  {
   "metadata": {
    "ExecuteTime": {
     "end_time": "2025-04-27T14:26:29.673510Z",
     "start_time": "2025-04-27T14:26:28.273348Z"
    }
   },
   "cell_type": "code",
   "source": [
    "support_agent = Agent(\n",
    "    role=\"Senior Support Representative\",\n",
    "\tgoal=\"Be the most friendly and helpful \"\n",
    "        \"support representative in your team\",\n",
    "\tbackstory=(\n",
    "\t\t\"You work at crewAI (https://crewai.com) and \"\n",
    "        \" are now working on providing \"\n",
    "\t\t\"support to {customer}, a super important customer \"\n",
    "        \" for your company.\"\n",
    "\t\t\"You need to make sure that you provide the best support!\"\n",
    "\t\t\"Make sure to provide full complete answers, \"\n",
    "        \" and make no assumptions.\"\n",
    "\t),\n",
    "\tallow_delegation=False,\n",
    "\tverbose=True\n",
    ")"
   ],
   "id": "ad298fd8876900d3",
   "outputs": [],
   "execution_count": 45
  },
  {
   "metadata": {
    "ExecuteTime": {
     "end_time": "2025-04-27T14:26:31.089570Z",
     "start_time": "2025-04-27T14:26:29.741204Z"
    }
   },
   "cell_type": "code",
   "source": [
    "support_quality_assurance_agent = Agent(\n",
    "\trole=\"Support Quality Assurance Specialist\",\n",
    "\tgoal=\"Get recognition for providing the \"\n",
    "    \"best support quality assurance in your team\",\n",
    "\tbackstory=(\n",
    "\t\t\"You work at crewAI (https://crewai.com) and \"\n",
    "        \"are now working with your team \"\n",
    "\t\t\"on a request from {customer} ensuring that \"\n",
    "        \"the support representative is \"\n",
    "\t\t\"providing the best support possible.\\n\"\n",
    "\t\t\"You need to make sure that the support representative \"\n",
    "        \"is providing full\"\n",
    "\t\t\"complete answers, and make no assumptions.\"\n",
    "\t),\n",
    "\tverbose=True\n",
    ")"
   ],
   "id": "990fae4abecc59a1",
   "outputs": [],
   "execution_count": 46
  },
  {
   "metadata": {},
   "cell_type": "markdown",
   "source": [
    "### Role Playing: Both agents have been given a role, goal and backstory.\n",
    "### Focus: Both agents have been prompted to get into the character of the roles they are playing.\n",
    "### Cooperation: Support Quality Assurance Agent can delegate work back to the Support Agent, allowing for these agents to work together."
   ],
   "id": "784b9b3573141ea6"
  },
  {
   "metadata": {
    "ExecuteTime": {
     "end_time": "2025-04-27T14:26:31.106961Z",
     "start_time": "2025-04-27T14:26:31.101836Z"
    }
   },
   "cell_type": "code",
   "source": [
    "from crewai_tools import SerperDevTool, \\\n",
    "                         ScrapeWebsiteTool, \\\n",
    "                         WebsiteSearchTool"
   ],
   "id": "276faddc63819239",
   "outputs": [],
   "execution_count": 47
  },
  {
   "metadata": {},
   "cell_type": "markdown",
   "source": [
    "## Creating Tasks\n",
    "#### You are passing the Tool on the Task Level."
   ],
   "id": "dc1b624cffc7c6c0"
  },
  {
   "metadata": {
    "ExecuteTime": {
     "end_time": "2025-04-27T14:26:31.124521Z",
     "start_time": "2025-04-27T14:26:31.119524Z"
    }
   },
   "cell_type": "code",
   "source": [
    "docs_scrape_tool = ScrapeWebsiteTool(\n",
    "    website_url=\"https://docs.crewai.com/how-to/Creating-a-Crew-and-kick-it-off/\"\n",
    ")"
   ],
   "id": "969cd73cb05c6736",
   "outputs": [],
   "execution_count": 48
  },
  {
   "metadata": {
    "ExecuteTime": {
     "end_time": "2025-04-27T14:26:31.340443Z",
     "start_time": "2025-04-27T14:26:31.325570Z"
    }
   },
   "cell_type": "code",
   "source": [
    "inquiry_resolution = Task(\n",
    "    description=(\n",
    "        \"{customer} just reached out with a super important ask:\\n\"\n",
    "\t    \"{inquiry}\\n\\n\"\n",
    "        \"{person} from {customer} is the one that reached out. \"\n",
    "\t\t\"Make sure to use everything you know \"\n",
    "        \"to provide the best support possible.\"\n",
    "\t\t\"You must strive to provide a complete \"\n",
    "        \"and accurate response to the customer's inquiry.\"\n",
    "    ),\n",
    "    expected_output=(\n",
    "\t    \"A detailed, informative response to the \"\n",
    "        \"customer's inquiry that addresses \"\n",
    "        \"all aspects of their question.\\n\"\n",
    "        \"The response should include references \"\n",
    "        \"to everything you used to find the answer, \"\n",
    "        \"including external data or solutions. \"\n",
    "        \"Ensure the answer is complete, \"\n",
    "\t\t\"leaving no questions unanswered, and maintain a helpful and friendly \"\n",
    "\t\t\"tone throughout.\"\n",
    "    ),\n",
    "\ttools=[docs_scrape_tool],\n",
    "    agent=support_agent,\n",
    ")"
   ],
   "id": "61205593ae4c43e3",
   "outputs": [],
   "execution_count": 49
  },
  {
   "metadata": {
    "ExecuteTime": {
     "end_time": "2025-04-27T14:26:31.837476Z",
     "start_time": "2025-04-27T14:26:31.822334Z"
    }
   },
   "cell_type": "code",
   "source": [
    "quality_assurance_review = Task(\n",
    "    description=(\n",
    "        \"Review the response drafted by the Senior Support Representative for {customer}'s inquiry. \"\n",
    "        \"Ensure that the answer is comprehensive, accurate, and adheres to the \"\n",
    "\t\t\"high-quality standards expected for customer support.\\n\"\n",
    "        \"Verify that all parts of the customer's inquiry \"\n",
    "        \"have been addressed \"\n",
    "\t\t\"thoroughly, with a helpful and friendly tone.\\n\"\n",
    "        \"Check for references and sources used to \"\n",
    "        \" find the information, \"\n",
    "\t\t\"ensuring the response is well-supported and \"\n",
    "        \"leaves no questions unanswered.\"\n",
    "    ),\n",
    "    expected_output=(\n",
    "        \"A final, detailed, and informative response \"\n",
    "        \"ready to be sent to the customer.\\n\"\n",
    "        \"This response should fully address the \"\n",
    "        \"customer's inquiry, incorporating all \"\n",
    "\t\t\"relevant feedback and improvements.\\n\"\n",
    "\t\t\"Don't be too formal, we are a chill and cool company \"\n",
    "\t    \"but maintain a professional and friendly tone throughout.\"\n",
    "    ),\n",
    "    agent=support_quality_assurance_agent,\n",
    ")\n"
   ],
   "id": "deb7810704801cfb",
   "outputs": [],
   "execution_count": 50
  },
  {
   "metadata": {},
   "cell_type": "code",
   "outputs": [],
   "execution_count": null,
   "source": "",
   "id": "540676eb16bdf083"
  },
  {
   "metadata": {
    "ExecuteTime": {
     "end_time": "2025-04-27T14:41:53.237043Z",
     "start_time": "2025-04-27T14:41:53.188417Z"
    }
   },
   "cell_type": "code",
   "source": [
    "crew = Crew(\n",
    "  agents=[support_agent, support_quality_assurance_agent],\n",
    "  tasks=[inquiry_resolution, quality_assurance_review],\n",
    "  verbose=2,\n",
    " \n",
    " \n",
    ")"
   ],
   "id": "1fd1d3c3c7918ed6",
   "outputs": [
    {
     "ename": "TypeError",
     "evalue": "RAGStorage.__init__() got an unexpected keyword argument 'path'",
     "output_type": "error",
     "traceback": [
      "\u001B[31m---------------------------------------------------------------------------\u001B[39m",
      "\u001B[31mTypeError\u001B[39m                                 Traceback (most recent call last)",
      "\u001B[36mCell\u001B[39m\u001B[36m \u001B[39m\u001B[32mIn[56]\u001B[39m\u001B[32m, line 9\u001B[39m\n\u001B[32m      1\u001B[39m \u001B[38;5;28;01mfrom\u001B[39;00m\u001B[38;5;250m \u001B[39m\u001B[34;01mcrewai\u001B[39;00m\u001B[34;01m.\u001B[39;00m\u001B[34;01mmemory\u001B[39;00m\u001B[38;5;250m \u001B[39m\u001B[38;5;28;01mimport\u001B[39;00m LongTermMemory, ShortTermMemory, EntityMemory\n\u001B[32m      2\u001B[39m \u001B[38;5;28;01mfrom\u001B[39;00m\u001B[38;5;250m \u001B[39m\u001B[34;01mcrewai\u001B[39;00m\u001B[34;01m.\u001B[39;00m\u001B[34;01mmemory\u001B[39;00m\u001B[34;01m.\u001B[39;00m\u001B[34;01mstorage\u001B[39;00m\u001B[34;01m.\u001B[39;00m\u001B[34;01mrag_storage\u001B[39;00m\u001B[38;5;250m \u001B[39m\u001B[38;5;28;01mimport\u001B[39;00m RAGStorage\n\u001B[32m      3\u001B[39m crew = Crew(\n\u001B[32m      4\u001B[39m   agents=[support_agent, support_quality_assurance_agent],\n\u001B[32m      5\u001B[39m   tasks=[inquiry_resolution, quality_assurance_review],\n\u001B[32m      6\u001B[39m   verbose=\u001B[32m2\u001B[39m,\n\u001B[32m      7\u001B[39m     memory=\u001B[38;5;28;01mTrue\u001B[39;00m,\n\u001B[32m      8\u001B[39m     entity_memory = EntityMemory(\n\u001B[32m----> \u001B[39m\u001B[32m9\u001B[39m         storage=\u001B[43mRAGStorage\u001B[49m\u001B[43m(\u001B[49m\n\u001B[32m     10\u001B[39m \u001B[43m            \u001B[49m\u001B[43membedder_config\u001B[49m\u001B[43m=\u001B[49m\u001B[43m{\u001B[49m\n\u001B[32m     11\u001B[39m \u001B[43m                \u001B[49m\u001B[33;43m\"\u001B[39;49m\u001B[33;43mprovider\u001B[39;49m\u001B[33;43m\"\u001B[39;49m\u001B[43m:\u001B[49m\u001B[43m \u001B[49m\u001B[33;43m\"\u001B[39;49m\u001B[33;43mhttps://api.mistral.ai/v1\u001B[39;49m\u001B[33;43m\"\u001B[39;49m\u001B[43m,\u001B[49m\n\u001B[32m     12\u001B[39m \u001B[43m                \u001B[49m\u001B[33;43m\"\u001B[39;49m\u001B[33;43mconfig\u001B[39;49m\u001B[33;43m\"\u001B[39;49m\u001B[43m:\u001B[49m\u001B[43m \u001B[49m\u001B[43m{\u001B[49m\n\u001B[32m     13\u001B[39m \u001B[43m                    \u001B[49m\u001B[33;43m\"\u001B[39;49m\u001B[33;43mmodel\u001B[39;49m\u001B[33;43m\"\u001B[39;49m\u001B[43m:\u001B[49m\u001B[43m \u001B[49m\u001B[33;43m'\u001B[39;49m\u001B[33;43mmistral-large-latest\u001B[39;49m\u001B[33;43m'\u001B[39;49m\n\u001B[32m     14\u001B[39m \u001B[43m                \u001B[49m\u001B[43m}\u001B[49m\n\u001B[32m     15\u001B[39m \u001B[43m            \u001B[49m\u001B[43m}\u001B[49m\u001B[43m,\u001B[49m\n\u001B[32m     16\u001B[39m \u001B[43m            \u001B[49m\u001B[38;5;28;43mtype\u001B[39;49m\u001B[43m=\u001B[49m\u001B[33;43m\"\u001B[39;49m\u001B[33;43mshort_term\u001B[39;49m\u001B[33;43m\"\u001B[39;49m\u001B[43m,\u001B[49m\n\u001B[32m     17\u001B[39m \u001B[43m            \u001B[49m\u001B[43mpath\u001B[49m\u001B[43m=\u001B[49m\u001B[33;43m\"\u001B[39;49m\u001B[33;43m/my_crew1/\u001B[39;49m\u001B[33;43m\"\u001B[39;49m\n\u001B[32m     18\u001B[39m \u001B[43m        \u001B[49m\u001B[43m)\u001B[49m\n\u001B[32m     19\u001B[39m     ),\n\u001B[32m     20\u001B[39m )\n",
      "\u001B[31mTypeError\u001B[39m: RAGStorage.__init__() got an unexpected keyword argument 'path'"
     ]
    }
   ],
   "execution_count": 56
  },
  {
   "metadata": {
    "ExecuteTime": {
     "end_time": "2025-04-27T14:37:28.962325Z",
     "start_time": "2025-04-27T14:37:28.298569Z"
    }
   },
   "cell_type": "code",
   "source": [
    "inputs = {\n",
    "    \"customer\": \"DeepLearningAI\",\n",
    "    \"person\": \"Andrew Ng\",\n",
    "    \"inquiry\": \"I need help with setting up a Crew \"\n",
    "               \"and kicking it off, specifically \"\n",
    "               \"how can I add memory to my crew? \"\n",
    "               \"Can you provide guidance?\"\n",
    "}\n",
    "result = crew.kickoff(inputs=inputs)"
   ],
   "id": "4c64819c6a0b547",
   "outputs": [
    {
     "name": "stdout",
     "output_type": "stream",
     "text": [
      "\u001B[1m\u001B[95m [DEBUG]: == Working Agent: Senior Support Representative\u001B[00m\n",
      "\u001B[1m\u001B[95m [INFO]: == Starting Task: DeepLearningAI just reached out with a super important ask:\n",
      "I need help with setting up a Crew and kicking it off, specifically how can I add memory to my crew? Can you provide guidance?\n",
      "\n",
      "Andrew Ng from DeepLearningAI is the one that reached out. Make sure to use everything you know to provide the best support possible.You must strive to provide a complete and accurate response to the customer's inquiry.\u001B[00m\n"
     ]
    },
    {
     "ename": "BadRequestError",
     "evalue": "Error code: 400 - {'object': 'error', 'message': 'Invalid model: text-embedding-ada-002', 'type': 'invalid_model', 'param': None, 'code': '1500'}",
     "output_type": "error",
     "traceback": [
      "\u001B[31m---------------------------------------------------------------------------\u001B[39m",
      "\u001B[31mBadRequestError\u001B[39m                           Traceback (most recent call last)",
      "\u001B[36mCell\u001B[39m\u001B[36m \u001B[39m\u001B[32mIn[55]\u001B[39m\u001B[32m, line 9\u001B[39m\n\u001B[32m      1\u001B[39m inputs = {\n\u001B[32m      2\u001B[39m     \u001B[33m\"\u001B[39m\u001B[33mcustomer\u001B[39m\u001B[33m\"\u001B[39m: \u001B[33m\"\u001B[39m\u001B[33mDeepLearningAI\u001B[39m\u001B[33m\"\u001B[39m,\n\u001B[32m      3\u001B[39m     \u001B[33m\"\u001B[39m\u001B[33mperson\u001B[39m\u001B[33m\"\u001B[39m: \u001B[33m\"\u001B[39m\u001B[33mAndrew Ng\u001B[39m\u001B[33m\"\u001B[39m,\n\u001B[32m   (...)\u001B[39m\u001B[32m      7\u001B[39m                \u001B[33m\"\u001B[39m\u001B[33mCan you provide guidance?\u001B[39m\u001B[33m\"\u001B[39m\n\u001B[32m      8\u001B[39m }\n\u001B[32m----> \u001B[39m\u001B[32m9\u001B[39m result = \u001B[43mcrew\u001B[49m\u001B[43m.\u001B[49m\u001B[43mkickoff\u001B[49m\u001B[43m(\u001B[49m\u001B[43minputs\u001B[49m\u001B[43m=\u001B[49m\u001B[43minputs\u001B[49m\u001B[43m)\u001B[49m\n",
      "\u001B[36mFile \u001B[39m\u001B[32mC:\\PEDRO\\brincar\\Multi AI Agent Systems with crewAI\\venv\\Lib\\site-packages\\crewai\\crew.py:252\u001B[39m, in \u001B[36mCrew.kickoff\u001B[39m\u001B[34m(self, inputs)\u001B[39m\n\u001B[32m    249\u001B[39m metrics = []\n\u001B[32m    251\u001B[39m \u001B[38;5;28;01mif\u001B[39;00m \u001B[38;5;28mself\u001B[39m.process == Process.sequential:\n\u001B[32m--> \u001B[39m\u001B[32m252\u001B[39m     result = \u001B[38;5;28;43mself\u001B[39;49m\u001B[43m.\u001B[49m\u001B[43m_run_sequential_process\u001B[49m\u001B[43m(\u001B[49m\u001B[43m)\u001B[49m\n\u001B[32m    253\u001B[39m \u001B[38;5;28;01melif\u001B[39;00m \u001B[38;5;28mself\u001B[39m.process == Process.hierarchical:\n\u001B[32m    254\u001B[39m     result, manager_metrics = \u001B[38;5;28mself\u001B[39m._run_hierarchical_process()\n",
      "\u001B[36mFile \u001B[39m\u001B[32mC:\\PEDRO\\brincar\\Multi AI Agent Systems with crewAI\\venv\\Lib\\site-packages\\crewai\\crew.py:293\u001B[39m, in \u001B[36mCrew._run_sequential_process\u001B[39m\u001B[34m(self)\u001B[39m\n\u001B[32m    288\u001B[39m \u001B[38;5;28;01mif\u001B[39;00m \u001B[38;5;28mself\u001B[39m.output_log_file:\n\u001B[32m    289\u001B[39m     \u001B[38;5;28mself\u001B[39m._file_handler.log(\n\u001B[32m    290\u001B[39m         agent=role, task=task.description, status=\u001B[33m\"\u001B[39m\u001B[33mstarted\u001B[39m\u001B[33m\"\u001B[39m\n\u001B[32m    291\u001B[39m     )\n\u001B[32m--> \u001B[39m\u001B[32m293\u001B[39m output = \u001B[43mtask\u001B[49m\u001B[43m.\u001B[49m\u001B[43mexecute\u001B[49m\u001B[43m(\u001B[49m\u001B[43mcontext\u001B[49m\u001B[43m=\u001B[49m\u001B[43mtask_output\u001B[49m\u001B[43m)\u001B[49m\n\u001B[32m    294\u001B[39m \u001B[38;5;28;01mif\u001B[39;00m \u001B[38;5;129;01mnot\u001B[39;00m task.async_execution:\n\u001B[32m    295\u001B[39m     task_output = output\n",
      "\u001B[36mFile \u001B[39m\u001B[32mC:\\PEDRO\\brincar\\Multi AI Agent Systems with crewAI\\venv\\Lib\\site-packages\\crewai\\task.py:173\u001B[39m, in \u001B[36mTask.execute\u001B[39m\u001B[34m(self, agent, context, tools)\u001B[39m\n\u001B[32m    171\u001B[39m     \u001B[38;5;28mself\u001B[39m.thread.start()\n\u001B[32m    172\u001B[39m \u001B[38;5;28;01melse\u001B[39;00m:\n\u001B[32m--> \u001B[39m\u001B[32m173\u001B[39m     result = \u001B[38;5;28;43mself\u001B[39;49m\u001B[43m.\u001B[49m\u001B[43m_execute\u001B[49m\u001B[43m(\u001B[49m\n\u001B[32m    174\u001B[39m \u001B[43m        \u001B[49m\u001B[43mtask\u001B[49m\u001B[43m=\u001B[49m\u001B[38;5;28;43mself\u001B[39;49m\u001B[43m,\u001B[49m\n\u001B[32m    175\u001B[39m \u001B[43m        \u001B[49m\u001B[43magent\u001B[49m\u001B[43m=\u001B[49m\u001B[43magent\u001B[49m\u001B[43m,\u001B[49m\n\u001B[32m    176\u001B[39m \u001B[43m        \u001B[49m\u001B[43mcontext\u001B[49m\u001B[43m=\u001B[49m\u001B[43mcontext\u001B[49m\u001B[43m,\u001B[49m\n\u001B[32m    177\u001B[39m \u001B[43m        \u001B[49m\u001B[43mtools\u001B[49m\u001B[43m=\u001B[49m\u001B[43mtools\u001B[49m\u001B[43m,\u001B[49m\n\u001B[32m    178\u001B[39m \u001B[43m    \u001B[49m\u001B[43m)\u001B[49m\n\u001B[32m    179\u001B[39m     \u001B[38;5;28;01mreturn\u001B[39;00m result\n",
      "\u001B[36mFile \u001B[39m\u001B[32mC:\\PEDRO\\brincar\\Multi AI Agent Systems with crewAI\\venv\\Lib\\site-packages\\crewai\\task.py:182\u001B[39m, in \u001B[36mTask._execute\u001B[39m\u001B[34m(self, agent, task, context, tools)\u001B[39m\n\u001B[32m    181\u001B[39m \u001B[38;5;28;01mdef\u001B[39;00m\u001B[38;5;250m \u001B[39m\u001B[34m_execute\u001B[39m(\u001B[38;5;28mself\u001B[39m, agent, task, context, tools):\n\u001B[32m--> \u001B[39m\u001B[32m182\u001B[39m     result = \u001B[43magent\u001B[49m\u001B[43m.\u001B[49m\u001B[43mexecute_task\u001B[49m\u001B[43m(\u001B[49m\n\u001B[32m    183\u001B[39m \u001B[43m        \u001B[49m\u001B[43mtask\u001B[49m\u001B[43m=\u001B[49m\u001B[43mtask\u001B[49m\u001B[43m,\u001B[49m\n\u001B[32m    184\u001B[39m \u001B[43m        \u001B[49m\u001B[43mcontext\u001B[49m\u001B[43m=\u001B[49m\u001B[43mcontext\u001B[49m\u001B[43m,\u001B[49m\n\u001B[32m    185\u001B[39m \u001B[43m        \u001B[49m\u001B[43mtools\u001B[49m\u001B[43m=\u001B[49m\u001B[43mtools\u001B[49m\u001B[43m,\u001B[49m\n\u001B[32m    186\u001B[39m \u001B[43m    \u001B[49m\u001B[43m)\u001B[49m\n\u001B[32m    188\u001B[39m     exported_output = \u001B[38;5;28mself\u001B[39m._export_output(result)\n\u001B[32m    190\u001B[39m     \u001B[38;5;28mself\u001B[39m.output = TaskOutput(\n\u001B[32m    191\u001B[39m         description=\u001B[38;5;28mself\u001B[39m.description,\n\u001B[32m    192\u001B[39m         exported_output=exported_output,\n\u001B[32m    193\u001B[39m         raw_output=result,\n\u001B[32m    194\u001B[39m     )\n",
      "\u001B[36mFile \u001B[39m\u001B[32mC:\\PEDRO\\brincar\\Multi AI Agent Systems with crewAI\\venv\\Lib\\site-packages\\crewai\\agent.py:207\u001B[39m, in \u001B[36mAgent.execute_task\u001B[39m\u001B[34m(self, task, context, tools)\u001B[39m\n\u001B[32m    201\u001B[39m \u001B[38;5;28;01mif\u001B[39;00m \u001B[38;5;28mself\u001B[39m.crew \u001B[38;5;129;01mand\u001B[39;00m \u001B[38;5;28mself\u001B[39m.crew.memory:\n\u001B[32m    202\u001B[39m     contextual_memory = ContextualMemory(\n\u001B[32m    203\u001B[39m         \u001B[38;5;28mself\u001B[39m.crew._short_term_memory,\n\u001B[32m    204\u001B[39m         \u001B[38;5;28mself\u001B[39m.crew._long_term_memory,\n\u001B[32m    205\u001B[39m         \u001B[38;5;28mself\u001B[39m.crew._entity_memory,\n\u001B[32m    206\u001B[39m     )\n\u001B[32m--> \u001B[39m\u001B[32m207\u001B[39m     memory = \u001B[43mcontextual_memory\u001B[49m\u001B[43m.\u001B[49m\u001B[43mbuild_context_for_task\u001B[49m\u001B[43m(\u001B[49m\u001B[43mtask\u001B[49m\u001B[43m,\u001B[49m\u001B[43m \u001B[49m\u001B[43mcontext\u001B[49m\u001B[43m)\u001B[49m\n\u001B[32m    208\u001B[39m     \u001B[38;5;28;01mif\u001B[39;00m memory.strip() != \u001B[33m\"\u001B[39m\u001B[33m\"\u001B[39m:\n\u001B[32m    209\u001B[39m         task_prompt += \u001B[38;5;28mself\u001B[39m.i18n.slice(\u001B[33m\"\u001B[39m\u001B[33mmemory\u001B[39m\u001B[33m\"\u001B[39m).format(memory=memory)\n",
      "\u001B[36mFile \u001B[39m\u001B[32mC:\\PEDRO\\brincar\\Multi AI Agent Systems with crewAI\\venv\\Lib\\site-packages\\crewai\\memory\\contextual\\contextual_memory.py:22\u001B[39m, in \u001B[36mContextualMemory.build_context_for_task\u001B[39m\u001B[34m(self, task, context)\u001B[39m\n\u001B[32m     20\u001B[39m context = []\n\u001B[32m     21\u001B[39m context.append(\u001B[38;5;28mself\u001B[39m._fetch_ltm_context(task.description))\n\u001B[32m---> \u001B[39m\u001B[32m22\u001B[39m context.append(\u001B[38;5;28;43mself\u001B[39;49m\u001B[43m.\u001B[49m\u001B[43m_fetch_stm_context\u001B[49m\u001B[43m(\u001B[49m\u001B[43mquery\u001B[49m\u001B[43m)\u001B[49m)\n\u001B[32m     23\u001B[39m context.append(\u001B[38;5;28mself\u001B[39m._fetch_entity_context(query))\n\u001B[32m     24\u001B[39m \u001B[38;5;28;01mreturn\u001B[39;00m \u001B[33m\"\u001B[39m\u001B[38;5;130;01m\\n\u001B[39;00m\u001B[33m\"\u001B[39m.join(\u001B[38;5;28mfilter\u001B[39m(\u001B[38;5;28;01mNone\u001B[39;00m, context))\n",
      "\u001B[36mFile \u001B[39m\u001B[32mC:\\PEDRO\\brincar\\Multi AI Agent Systems with crewAI\\venv\\Lib\\site-packages\\crewai\\memory\\contextual\\contextual_memory.py:31\u001B[39m, in \u001B[36mContextualMemory._fetch_stm_context\u001B[39m\u001B[34m(self, query)\u001B[39m\n\u001B[32m     26\u001B[39m \u001B[38;5;28;01mdef\u001B[39;00m\u001B[38;5;250m \u001B[39m\u001B[34m_fetch_stm_context\u001B[39m(\u001B[38;5;28mself\u001B[39m, query) -> \u001B[38;5;28mstr\u001B[39m:\n\u001B[32m     27\u001B[39m \u001B[38;5;250m    \u001B[39m\u001B[33;03m\"\"\"\u001B[39;00m\n\u001B[32m     28\u001B[39m \u001B[33;03m    Fetches recent relevant insights from STM related to the task's description and expected_output,\u001B[39;00m\n\u001B[32m     29\u001B[39m \u001B[33;03m    formatted as bullet points.\u001B[39;00m\n\u001B[32m     30\u001B[39m \u001B[33;03m    \"\"\"\u001B[39;00m\n\u001B[32m---> \u001B[39m\u001B[32m31\u001B[39m     stm_results = \u001B[38;5;28;43mself\u001B[39;49m\u001B[43m.\u001B[49m\u001B[43mstm\u001B[49m\u001B[43m.\u001B[49m\u001B[43msearch\u001B[49m\u001B[43m(\u001B[49m\u001B[43mquery\u001B[49m\u001B[43m)\u001B[49m\n\u001B[32m     32\u001B[39m     formatted_results = \u001B[33m\"\u001B[39m\u001B[38;5;130;01m\\n\u001B[39;00m\u001B[33m\"\u001B[39m.join([\u001B[33mf\u001B[39m\u001B[33m\"\u001B[39m\u001B[33m- \u001B[39m\u001B[38;5;132;01m{\u001B[39;00mresult\u001B[38;5;132;01m}\u001B[39;00m\u001B[33m\"\u001B[39m \u001B[38;5;28;01mfor\u001B[39;00m result \u001B[38;5;129;01min\u001B[39;00m stm_results])\n\u001B[32m     33\u001B[39m     \u001B[38;5;28;01mreturn\u001B[39;00m \u001B[33mf\u001B[39m\u001B[33m\"\u001B[39m\u001B[33mRecent Insights:\u001B[39m\u001B[38;5;130;01m\\n\u001B[39;00m\u001B[38;5;132;01m{\u001B[39;00mformatted_results\u001B[38;5;132;01m}\u001B[39;00m\u001B[33m\"\u001B[39m \u001B[38;5;28;01mif\u001B[39;00m stm_results \u001B[38;5;28;01melse\u001B[39;00m \u001B[33m\"\u001B[39m\u001B[33m\"\u001B[39m\n",
      "\u001B[36mFile \u001B[39m\u001B[32mC:\\PEDRO\\brincar\\Multi AI Agent Systems with crewAI\\venv\\Lib\\site-packages\\crewai\\memory\\short_term\\short_term_memory.py:23\u001B[39m, in \u001B[36mShortTermMemory.search\u001B[39m\u001B[34m(self, query, score_threshold)\u001B[39m\n\u001B[32m     22\u001B[39m \u001B[38;5;28;01mdef\u001B[39;00m\u001B[38;5;250m \u001B[39m\u001B[34msearch\u001B[39m(\u001B[38;5;28mself\u001B[39m, query: \u001B[38;5;28mstr\u001B[39m, score_threshold: \u001B[38;5;28mfloat\u001B[39m = \u001B[32m0.35\u001B[39m):\n\u001B[32m---> \u001B[39m\u001B[32m23\u001B[39m     \u001B[38;5;28;01mreturn\u001B[39;00m \u001B[38;5;28;43mself\u001B[39;49m\u001B[43m.\u001B[49m\u001B[43mstorage\u001B[49m\u001B[43m.\u001B[49m\u001B[43msearch\u001B[49m\u001B[43m(\u001B[49m\u001B[43mquery\u001B[49m\u001B[43m=\u001B[49m\u001B[43mquery\u001B[49m\u001B[43m,\u001B[49m\u001B[43m \u001B[49m\u001B[43mscore_threshold\u001B[49m\u001B[43m=\u001B[49m\u001B[43mscore_threshold\u001B[49m\u001B[43m)\u001B[49m\n",
      "\u001B[36mFile \u001B[39m\u001B[32mC:\\PEDRO\\brincar\\Multi AI Agent Systems with crewAI\\venv\\Lib\\site-packages\\crewai\\memory\\storage\\rag_storage.py:90\u001B[39m, in \u001B[36mRAGStorage.search\u001B[39m\u001B[34m(self, query, limit, filter, score_threshold)\u001B[39m\n\u001B[32m     85\u001B[39m \u001B[38;5;28;01mwith\u001B[39;00m suppress_logging():\n\u001B[32m     86\u001B[39m     \u001B[38;5;28;01mtry\u001B[39;00m:\n\u001B[32m     87\u001B[39m         results = (\n\u001B[32m     88\u001B[39m             \u001B[38;5;28mself\u001B[39m.app.search(query, limit, where=\u001B[38;5;28mfilter\u001B[39m)\n\u001B[32m     89\u001B[39m             \u001B[38;5;28;01mif\u001B[39;00m \u001B[38;5;28mfilter\u001B[39m\n\u001B[32m---> \u001B[39m\u001B[32m90\u001B[39m             \u001B[38;5;28;01melse\u001B[39;00m \u001B[38;5;28;43mself\u001B[39;49m\u001B[43m.\u001B[49m\u001B[43mapp\u001B[49m\u001B[43m.\u001B[49m\u001B[43msearch\u001B[49m\u001B[43m(\u001B[49m\u001B[43mquery\u001B[49m\u001B[43m,\u001B[49m\u001B[43m \u001B[49m\u001B[43mlimit\u001B[49m\u001B[43m)\u001B[49m\n\u001B[32m     91\u001B[39m         )\n\u001B[32m     92\u001B[39m     \u001B[38;5;28;01mexcept\u001B[39;00m InvalidDimensionException:\n\u001B[32m     93\u001B[39m         \u001B[38;5;28mself\u001B[39m.app.reset()\n",
      "\u001B[36mFile \u001B[39m\u001B[32mC:\\PEDRO\\brincar\\Multi AI Agent Systems with crewAI\\venv\\Lib\\site-packages\\embedchain\\embedchain.py:653\u001B[39m, in \u001B[36mEmbedChain.search\u001B[39m\u001B[34m(self, query, num_documents, where, raw_filter, namespace)\u001B[39m\n\u001B[32m    642\u001B[39m filter_criteria = raw_filter \u001B[38;5;28;01mif\u001B[39;00m raw_filter \u001B[38;5;28;01melse\u001B[39;00m where\n\u001B[32m    644\u001B[39m params = {\n\u001B[32m    645\u001B[39m     \u001B[33m\"\u001B[39m\u001B[33minput_query\u001B[39m\u001B[33m\"\u001B[39m: query,\n\u001B[32m    646\u001B[39m     \u001B[33m\"\u001B[39m\u001B[33mn_results\u001B[39m\u001B[33m\"\u001B[39m: num_documents,\n\u001B[32m   (...)\u001B[39m\u001B[32m    650\u001B[39m     filter_type: filter_criteria,\n\u001B[32m    651\u001B[39m }\n\u001B[32m--> \u001B[39m\u001B[32m653\u001B[39m \u001B[38;5;28;01mreturn\u001B[39;00m [{\u001B[33m\"\u001B[39m\u001B[33mcontext\u001B[39m\u001B[33m\"\u001B[39m: c[\u001B[32m0\u001B[39m], \u001B[33m\"\u001B[39m\u001B[33mmetadata\u001B[39m\u001B[33m\"\u001B[39m: c[\u001B[32m1\u001B[39m]} \u001B[38;5;28;01mfor\u001B[39;00m c \u001B[38;5;129;01min\u001B[39;00m \u001B[38;5;28;43mself\u001B[39;49m\u001B[43m.\u001B[49m\u001B[43mdb\u001B[49m\u001B[43m.\u001B[49m\u001B[43mquery\u001B[49m\u001B[43m(\u001B[49m\u001B[43m*\u001B[49m\u001B[43m*\u001B[49m\u001B[43mparams\u001B[49m\u001B[43m)\u001B[49m]\n",
      "\u001B[36mFile \u001B[39m\u001B[32mC:\\PEDRO\\brincar\\Multi AI Agent Systems with crewAI\\venv\\Lib\\site-packages\\embedchain\\vectordb\\chroma.py:220\u001B[39m, in \u001B[36mChromaDB.query\u001B[39m\u001B[34m(self, input_query, n_results, where, raw_filter, citations, **kwargs)\u001B[39m\n\u001B[32m    218\u001B[39m     where_clause = \u001B[38;5;28mself\u001B[39m._generate_where_clause(where)\n\u001B[32m    219\u001B[39m \u001B[38;5;28;01mtry\u001B[39;00m:\n\u001B[32m--> \u001B[39m\u001B[32m220\u001B[39m     result = \u001B[38;5;28;43mself\u001B[39;49m\u001B[43m.\u001B[49m\u001B[43mcollection\u001B[49m\u001B[43m.\u001B[49m\u001B[43mquery\u001B[49m\u001B[43m(\u001B[49m\n\u001B[32m    221\u001B[39m \u001B[43m        \u001B[49m\u001B[43mquery_texts\u001B[49m\u001B[43m=\u001B[49m\u001B[43m[\u001B[49m\n\u001B[32m    222\u001B[39m \u001B[43m            \u001B[49m\u001B[43minput_query\u001B[49m\u001B[43m,\u001B[49m\n\u001B[32m    223\u001B[39m \u001B[43m        \u001B[49m\u001B[43m]\u001B[49m\u001B[43m,\u001B[49m\n\u001B[32m    224\u001B[39m \u001B[43m        \u001B[49m\u001B[43mn_results\u001B[49m\u001B[43m=\u001B[49m\u001B[43mn_results\u001B[49m\u001B[43m,\u001B[49m\n\u001B[32m    225\u001B[39m \u001B[43m        \u001B[49m\u001B[43mwhere\u001B[49m\u001B[43m=\u001B[49m\u001B[43mwhere_clause\u001B[49m\u001B[43m,\u001B[49m\n\u001B[32m    226\u001B[39m \u001B[43m    \u001B[49m\u001B[43m)\u001B[49m\n\u001B[32m    227\u001B[39m \u001B[38;5;28;01mexcept\u001B[39;00m InvalidDimensionException \u001B[38;5;28;01mas\u001B[39;00m e:\n\u001B[32m    228\u001B[39m     \u001B[38;5;28;01mraise\u001B[39;00m InvalidDimensionException(\n\u001B[32m    229\u001B[39m         e.message()\n\u001B[32m    230\u001B[39m         + \u001B[33m\"\u001B[39m\u001B[33m. This is commonly a side-effect when an embedding function, different from the one used to add the\u001B[39m\u001B[33m\"\u001B[39m\n\u001B[32m    231\u001B[39m         \u001B[33m\"\u001B[39m\u001B[33m embeddings, is used to retrieve an embedding from the database.\u001B[39m\u001B[33m\"\u001B[39m\n\u001B[32m    232\u001B[39m     ) \u001B[38;5;28;01mfrom\u001B[39;00m\u001B[38;5;250m \u001B[39m\u001B[38;5;28;01mNone\u001B[39;00m\n",
      "\u001B[36mFile \u001B[39m\u001B[32mC:\\PEDRO\\brincar\\Multi AI Agent Systems with crewAI\\venv\\Lib\\site-packages\\chromadb\\api\\models\\Collection.py:327\u001B[39m, in \u001B[36mCollection.query\u001B[39m\u001B[34m(self, query_embeddings, query_texts, query_images, query_uris, n_results, where, where_document, include)\u001B[39m\n\u001B[32m    325\u001B[39m \u001B[38;5;28;01mif\u001B[39;00m valid_query_embeddings \u001B[38;5;129;01mis\u001B[39;00m \u001B[38;5;28;01mNone\u001B[39;00m:\n\u001B[32m    326\u001B[39m     \u001B[38;5;28;01mif\u001B[39;00m query_texts \u001B[38;5;129;01mis\u001B[39;00m \u001B[38;5;129;01mnot\u001B[39;00m \u001B[38;5;28;01mNone\u001B[39;00m:\n\u001B[32m--> \u001B[39m\u001B[32m327\u001B[39m         valid_query_embeddings = \u001B[38;5;28;43mself\u001B[39;49m\u001B[43m.\u001B[49m\u001B[43m_embed\u001B[49m\u001B[43m(\u001B[49m\u001B[38;5;28;43minput\u001B[39;49m\u001B[43m=\u001B[49m\u001B[43mvalid_query_texts\u001B[49m\u001B[43m)\u001B[49m\n\u001B[32m    328\u001B[39m     \u001B[38;5;28;01melif\u001B[39;00m query_images \u001B[38;5;129;01mis\u001B[39;00m \u001B[38;5;129;01mnot\u001B[39;00m \u001B[38;5;28;01mNone\u001B[39;00m:\n\u001B[32m    329\u001B[39m         valid_query_embeddings = \u001B[38;5;28mself\u001B[39m._embed(\u001B[38;5;28minput\u001B[39m=valid_query_images)\n",
      "\u001B[36mFile \u001B[39m\u001B[32mC:\\PEDRO\\brincar\\Multi AI Agent Systems with crewAI\\venv\\Lib\\site-packages\\chromadb\\api\\models\\Collection.py:633\u001B[39m, in \u001B[36mCollection._embed\u001B[39m\u001B[34m(self, input)\u001B[39m\n\u001B[32m    628\u001B[39m \u001B[38;5;28;01mif\u001B[39;00m \u001B[38;5;28mself\u001B[39m._embedding_function \u001B[38;5;129;01mis\u001B[39;00m \u001B[38;5;28;01mNone\u001B[39;00m:\n\u001B[32m    629\u001B[39m     \u001B[38;5;28;01mraise\u001B[39;00m \u001B[38;5;167;01mValueError\u001B[39;00m(\n\u001B[32m    630\u001B[39m         \u001B[33m\"\u001B[39m\u001B[33mYou must provide an embedding function to compute embeddings.\u001B[39m\u001B[33m\"\u001B[39m\n\u001B[32m    631\u001B[39m         \u001B[33m\"\u001B[39m\u001B[33mhttps://docs.trychroma.com/embeddings\u001B[39m\u001B[33m\"\u001B[39m\n\u001B[32m    632\u001B[39m     )\n\u001B[32m--> \u001B[39m\u001B[32m633\u001B[39m \u001B[38;5;28;01mreturn\u001B[39;00m \u001B[38;5;28;43mself\u001B[39;49m\u001B[43m.\u001B[49m\u001B[43m_embedding_function\u001B[49m\u001B[43m(\u001B[49m\u001B[38;5;28;43minput\u001B[39;49m\u001B[43m=\u001B[49m\u001B[38;5;28;43minput\u001B[39;49m\u001B[43m)\u001B[49m\n",
      "\u001B[36mFile \u001B[39m\u001B[32mC:\\PEDRO\\brincar\\Multi AI Agent Systems with crewAI\\venv\\Lib\\site-packages\\chromadb\\api\\types.py:193\u001B[39m, in \u001B[36mEmbeddingFunction.__init_subclass__.<locals>.__call__\u001B[39m\u001B[34m(self, input)\u001B[39m\n\u001B[32m    192\u001B[39m \u001B[38;5;28;01mdef\u001B[39;00m\u001B[38;5;250m \u001B[39m\u001B[34m__call__\u001B[39m(\u001B[38;5;28mself\u001B[39m: EmbeddingFunction[D], \u001B[38;5;28minput\u001B[39m: D) -> Embeddings:\n\u001B[32m--> \u001B[39m\u001B[32m193\u001B[39m     result = \u001B[43mcall\u001B[49m\u001B[43m(\u001B[49m\u001B[38;5;28;43mself\u001B[39;49m\u001B[43m,\u001B[49m\u001B[43m \u001B[49m\u001B[38;5;28;43minput\u001B[39;49m\u001B[43m)\u001B[49m\n\u001B[32m    194\u001B[39m     \u001B[38;5;28;01mreturn\u001B[39;00m validate_embeddings(maybe_cast_one_to_many_embedding(result))\n",
      "\u001B[36mFile \u001B[39m\u001B[32mC:\\PEDRO\\brincar\\Multi AI Agent Systems with crewAI\\venv\\Lib\\site-packages\\chromadb\\utils\\embedding_functions.py:188\u001B[39m, in \u001B[36mOpenAIEmbeddingFunction.__call__\u001B[39m\u001B[34m(self, input)\u001B[39m\n\u001B[32m    186\u001B[39m \u001B[38;5;66;03m# Call the OpenAI Embedding API\u001B[39;00m\n\u001B[32m    187\u001B[39m \u001B[38;5;28;01mif\u001B[39;00m \u001B[38;5;28mself\u001B[39m._v1:\n\u001B[32m--> \u001B[39m\u001B[32m188\u001B[39m     embeddings = \u001B[38;5;28;43mself\u001B[39;49m\u001B[43m.\u001B[49m\u001B[43m_client\u001B[49m\u001B[43m.\u001B[49m\u001B[43mcreate\u001B[49m\u001B[43m(\u001B[49m\n\u001B[32m    189\u001B[39m \u001B[43m        \u001B[49m\u001B[38;5;28;43minput\u001B[39;49m\u001B[43m=\u001B[49m\u001B[38;5;28;43minput\u001B[39;49m\u001B[43m,\u001B[49m\u001B[43m \u001B[49m\u001B[43mmodel\u001B[49m\u001B[43m=\u001B[49m\u001B[38;5;28;43mself\u001B[39;49m\u001B[43m.\u001B[49m\u001B[43m_deployment_id\u001B[49m\u001B[43m \u001B[49m\u001B[38;5;129;43;01mor\u001B[39;49;00m\u001B[43m \u001B[49m\u001B[38;5;28;43mself\u001B[39;49m\u001B[43m.\u001B[49m\u001B[43m_model_name\u001B[49m\n\u001B[32m    190\u001B[39m \u001B[43m    \u001B[49m\u001B[43m)\u001B[49m.data\n\u001B[32m    192\u001B[39m     \u001B[38;5;66;03m# Sort resulting embeddings by index\u001B[39;00m\n\u001B[32m    193\u001B[39m     sorted_embeddings = \u001B[38;5;28msorted\u001B[39m(embeddings, key=\u001B[38;5;28;01mlambda\u001B[39;00m e: e.index)\n",
      "\u001B[36mFile \u001B[39m\u001B[32mC:\\PEDRO\\brincar\\Multi AI Agent Systems with crewAI\\venv\\Lib\\site-packages\\openai\\resources\\embeddings.py:128\u001B[39m, in \u001B[36mEmbeddings.create\u001B[39m\u001B[34m(self, input, model, dimensions, encoding_format, user, extra_headers, extra_query, extra_body, timeout)\u001B[39m\n\u001B[32m    122\u001B[39m             embedding.embedding = np.frombuffer(  \u001B[38;5;66;03m# type: ignore[no-untyped-call]\u001B[39;00m\n\u001B[32m    123\u001B[39m                 base64.b64decode(data), dtype=\u001B[33m\"\u001B[39m\u001B[33mfloat32\u001B[39m\u001B[33m\"\u001B[39m\n\u001B[32m    124\u001B[39m             ).tolist()\n\u001B[32m    126\u001B[39m     \u001B[38;5;28;01mreturn\u001B[39;00m obj\n\u001B[32m--> \u001B[39m\u001B[32m128\u001B[39m \u001B[38;5;28;01mreturn\u001B[39;00m \u001B[38;5;28;43mself\u001B[39;49m\u001B[43m.\u001B[49m\u001B[43m_post\u001B[49m\u001B[43m(\u001B[49m\n\u001B[32m    129\u001B[39m \u001B[43m    \u001B[49m\u001B[33;43m\"\u001B[39;49m\u001B[33;43m/embeddings\u001B[39;49m\u001B[33;43m\"\u001B[39;49m\u001B[43m,\u001B[49m\n\u001B[32m    130\u001B[39m \u001B[43m    \u001B[49m\u001B[43mbody\u001B[49m\u001B[43m=\u001B[49m\u001B[43mmaybe_transform\u001B[49m\u001B[43m(\u001B[49m\u001B[43mparams\u001B[49m\u001B[43m,\u001B[49m\u001B[43m \u001B[49m\u001B[43membedding_create_params\u001B[49m\u001B[43m.\u001B[49m\u001B[43mEmbeddingCreateParams\u001B[49m\u001B[43m)\u001B[49m\u001B[43m,\u001B[49m\n\u001B[32m    131\u001B[39m \u001B[43m    \u001B[49m\u001B[43moptions\u001B[49m\u001B[43m=\u001B[49m\u001B[43mmake_request_options\u001B[49m\u001B[43m(\u001B[49m\n\u001B[32m    132\u001B[39m \u001B[43m        \u001B[49m\u001B[43mextra_headers\u001B[49m\u001B[43m=\u001B[49m\u001B[43mextra_headers\u001B[49m\u001B[43m,\u001B[49m\n\u001B[32m    133\u001B[39m \u001B[43m        \u001B[49m\u001B[43mextra_query\u001B[49m\u001B[43m=\u001B[49m\u001B[43mextra_query\u001B[49m\u001B[43m,\u001B[49m\n\u001B[32m    134\u001B[39m \u001B[43m        \u001B[49m\u001B[43mextra_body\u001B[49m\u001B[43m=\u001B[49m\u001B[43mextra_body\u001B[49m\u001B[43m,\u001B[49m\n\u001B[32m    135\u001B[39m \u001B[43m        \u001B[49m\u001B[43mtimeout\u001B[49m\u001B[43m=\u001B[49m\u001B[43mtimeout\u001B[49m\u001B[43m,\u001B[49m\n\u001B[32m    136\u001B[39m \u001B[43m        \u001B[49m\u001B[43mpost_parser\u001B[49m\u001B[43m=\u001B[49m\u001B[43mparser\u001B[49m\u001B[43m,\u001B[49m\n\u001B[32m    137\u001B[39m \u001B[43m    \u001B[49m\u001B[43m)\u001B[49m\u001B[43m,\u001B[49m\n\u001B[32m    138\u001B[39m \u001B[43m    \u001B[49m\u001B[43mcast_to\u001B[49m\u001B[43m=\u001B[49m\u001B[43mCreateEmbeddingResponse\u001B[49m\u001B[43m,\u001B[49m\n\u001B[32m    139\u001B[39m \u001B[43m\u001B[49m\u001B[43m)\u001B[49m\n",
      "\u001B[36mFile \u001B[39m\u001B[32mC:\\PEDRO\\brincar\\Multi AI Agent Systems with crewAI\\venv\\Lib\\site-packages\\openai\\_base_client.py:1239\u001B[39m, in \u001B[36mSyncAPIClient.post\u001B[39m\u001B[34m(self, path, cast_to, body, options, files, stream, stream_cls)\u001B[39m\n\u001B[32m   1225\u001B[39m \u001B[38;5;28;01mdef\u001B[39;00m\u001B[38;5;250m \u001B[39m\u001B[34mpost\u001B[39m(\n\u001B[32m   1226\u001B[39m     \u001B[38;5;28mself\u001B[39m,\n\u001B[32m   1227\u001B[39m     path: \u001B[38;5;28mstr\u001B[39m,\n\u001B[32m   (...)\u001B[39m\u001B[32m   1234\u001B[39m     stream_cls: \u001B[38;5;28mtype\u001B[39m[_StreamT] | \u001B[38;5;28;01mNone\u001B[39;00m = \u001B[38;5;28;01mNone\u001B[39;00m,\n\u001B[32m   1235\u001B[39m ) -> ResponseT | _StreamT:\n\u001B[32m   1236\u001B[39m     opts = FinalRequestOptions.construct(\n\u001B[32m   1237\u001B[39m         method=\u001B[33m\"\u001B[39m\u001B[33mpost\u001B[39m\u001B[33m\"\u001B[39m, url=path, json_data=body, files=to_httpx_files(files), **options\n\u001B[32m   1238\u001B[39m     )\n\u001B[32m-> \u001B[39m\u001B[32m1239\u001B[39m     \u001B[38;5;28;01mreturn\u001B[39;00m cast(ResponseT, \u001B[38;5;28;43mself\u001B[39;49m\u001B[43m.\u001B[49m\u001B[43mrequest\u001B[49m\u001B[43m(\u001B[49m\u001B[43mcast_to\u001B[49m\u001B[43m,\u001B[49m\u001B[43m \u001B[49m\u001B[43mopts\u001B[49m\u001B[43m,\u001B[49m\u001B[43m \u001B[49m\u001B[43mstream\u001B[49m\u001B[43m=\u001B[49m\u001B[43mstream\u001B[49m\u001B[43m,\u001B[49m\u001B[43m \u001B[49m\u001B[43mstream_cls\u001B[49m\u001B[43m=\u001B[49m\u001B[43mstream_cls\u001B[49m\u001B[43m)\u001B[49m)\n",
      "\u001B[36mFile \u001B[39m\u001B[32mC:\\PEDRO\\brincar\\Multi AI Agent Systems with crewAI\\venv\\Lib\\site-packages\\openai\\_base_client.py:1034\u001B[39m, in \u001B[36mSyncAPIClient.request\u001B[39m\u001B[34m(self, cast_to, options, stream, stream_cls)\u001B[39m\n\u001B[32m   1031\u001B[39m             err.response.read()\n\u001B[32m   1033\u001B[39m         log.debug(\u001B[33m\"\u001B[39m\u001B[33mRe-raising status error\u001B[39m\u001B[33m\"\u001B[39m)\n\u001B[32m-> \u001B[39m\u001B[32m1034\u001B[39m         \u001B[38;5;28;01mraise\u001B[39;00m \u001B[38;5;28mself\u001B[39m._make_status_error_from_response(err.response) \u001B[38;5;28;01mfrom\u001B[39;00m\u001B[38;5;250m \u001B[39m\u001B[38;5;28;01mNone\u001B[39;00m\n\u001B[32m   1036\u001B[39m     \u001B[38;5;28;01mbreak\u001B[39;00m\n\u001B[32m   1038\u001B[39m \u001B[38;5;28;01massert\u001B[39;00m response \u001B[38;5;129;01mis\u001B[39;00m \u001B[38;5;129;01mnot\u001B[39;00m \u001B[38;5;28;01mNone\u001B[39;00m, \u001B[33m\"\u001B[39m\u001B[33mcould not resolve response (should never happen)\u001B[39m\u001B[33m\"\u001B[39m\n",
      "\u001B[31mBadRequestError\u001B[39m: Error code: 400 - {'object': 'error', 'message': 'Invalid model: text-embedding-ada-002', 'type': 'invalid_model', 'param': None, 'code': '1500'}"
     ]
    }
   ],
   "execution_count": 55
  },
  {
   "metadata": {
    "ExecuteTime": {
     "end_time": "2025-04-27T14:27:28.136037Z",
     "start_time": "2025-04-27T14:27:28.126568Z"
    }
   },
   "cell_type": "code",
   "source": [
    "from IPython.display import Markdown\n",
    "Markdown(result)"
   ],
   "id": "91f468c9d098592b",
   "outputs": [
    {
     "data": {
      "text/plain": [
       "<IPython.core.display.Markdown object>"
      ],
      "text/markdown": "Dear Andrew Ng from DeepLearningAI,\n\nThank you for reaching out to us for help with setting up a Crew and adding memory to it in crewAI. I am happy to provide you with a detailed and informative response.\n\nFirst, let's start with setting up a Crew in crewAI. A Crew is the top-level organization that manages AI agent teams, oversees workflows, ensures collaboration, and delivers outcomes. In order to create a Crew, you will need to define specific roles, expertise, and goals for each agent in the Crew, such as researchers, analysts, or writers. Each agent in the Crew will also have access to custom tools and APIs to interact with external services and data sources, allowing them to work together and share insights to accomplish complex tasks.\n\nNow, let's move on to adding memory to your Crew in crewAI. Memory is a key feature in crewAI that allows agents to maintain a persistent context across tasks, enabling them to remember past interactions and use this information to make more informed decisions. In order to add memory to your Crew, you will need to follow these steps:\n\n1. Log into your crewAI account and navigate to the \"Crews\" page.\n2. Select the Crew you would like to add memory to.\n3. Click on the \"Add Memory\" button, which is located in the top right corner of the Crew's page.\n4. A new window will open, allowing you to select the type and amount of memory you would like to add.\n5. After selecting the desired memory specifications, click on the \"Add to Cart\" button.\n6. Review your order in the cart and click on the \"Checkout\" button.\n7. Follow the prompts to complete the checkout process, including entering your payment information.\n8. Once the order is complete, the memory will be added to your Crew and will be available for use.\n\nPlease note that the availability and pricing of memory options may vary. Additionally, the Crew must have available resources and be properly configured to add memory.\n\nI hope this information helps you with setting up a Crew and adding memory to it in crewAI. If you have any further questions or need additional assistance, please don't hesitate to reach out.\n\nBest regards,\n[Your Name]\nSenior Support Representative at crewAI\n\nReferences:\n\n* <https://docs.crewai.com/how-to/Creating-a-Crew-and-kick-it-off/>\n* <https://docs.crewai.com/core-concepts/memory/>"
     },
     "execution_count": 53,
     "metadata": {},
     "output_type": "execute_result"
    }
   ],
   "execution_count": 53
  },
  {
   "metadata": {},
   "cell_type": "markdown",
   "source": "## ",
   "id": "1f8a61c31cf725c"
  }
 ],
 "metadata": {
  "kernelspec": {
   "display_name": "Python 3",
   "language": "python",
   "name": "python3"
  },
  "language_info": {
   "codemirror_mode": {
    "name": "ipython",
    "version": 2
   },
   "file_extension": ".py",
   "mimetype": "text/x-python",
   "name": "python",
   "nbconvert_exporter": "python",
   "pygments_lexer": "ipython2",
   "version": "2.7.6"
  }
 },
 "nbformat": 4,
 "nbformat_minor": 5
}
